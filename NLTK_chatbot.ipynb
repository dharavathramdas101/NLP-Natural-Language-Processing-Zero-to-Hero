{
  "nbformat": 4,
  "nbformat_minor": 0,
  "metadata": {
    "colab": {
      "provenance": [],
      "gpuType": "T4",
      "authorship_tag": "ABX9TyN1g5vB9IgRdqT2nCDtXrSH",
      "include_colab_link": true
    },
    "kernelspec": {
      "name": "python3",
      "display_name": "Python 3"
    },
    "language_info": {
      "name": "python"
    },
    "accelerator": "GPU"
  },
  "cells": [
    {
      "cell_type": "markdown",
      "metadata": {
        "id": "view-in-github",
        "colab_type": "text"
      },
      "source": [
        "<a href=\"https://colab.research.google.com/github/dharavathramdas101/NLP-Natural-Language-Processing-Zero-to-Hero/blob/main/NLTK_chatbot.ipynb\" target=\"_parent\"><img src=\"https://colab.research.google.com/assets/colab-badge.svg\" alt=\"Open In Colab\"/></a>"
      ]
    },
    {
      "cell_type": "code",
      "execution_count": 28,
      "metadata": {
        "colab": {
          "base_uri": "https://localhost:8080/"
        },
        "id": "xEccLQ0rgc9J",
        "outputId": "902759ee-d6a9-4a71-b355-f78c0158eca7"
      },
      "outputs": [
        {
          "output_type": "stream",
          "name": "stdout",
          "text": [
            "Looking in indexes: https://pypi.org/simple, https://us-python.pkg.dev/colab-wheels/public/simple/\n",
            "Requirement already satisfied: numpy in /usr/local/lib/python3.10/dist-packages (1.22.4)\n"
          ]
        }
      ],
      "source": [
        "pip install numpy"
      ]
    },
    {
      "cell_type": "code",
      "source": [
        "pip install strings"
      ],
      "metadata": {
        "colab": {
          "base_uri": "https://localhost:8080/"
        },
        "id": "tV82DgS_hu55",
        "outputId": "3939fbb1-1a2b-4ea8-8f33-1d585ce3a2d2"
      },
      "execution_count": 29,
      "outputs": [
        {
          "output_type": "stream",
          "name": "stdout",
          "text": [
            "Looking in indexes: https://pypi.org/simple, https://us-python.pkg.dev/colab-wheels/public/simple/\n",
            "Collecting strings\n",
            "  Using cached strings-0.1.2.tar.gz (2.2 kB)\n",
            "  \u001b[1;31merror\u001b[0m: \u001b[1msubprocess-exited-with-error\u001b[0m\n",
            "  \n",
            "  \u001b[31m×\u001b[0m \u001b[32mpython setup.py egg_info\u001b[0m did not run successfully.\n",
            "  \u001b[31m│\u001b[0m exit code: \u001b[1;36m1\u001b[0m\n",
            "  \u001b[31m╰─>\u001b[0m See above for output.\n",
            "  \n",
            "  \u001b[1;35mnote\u001b[0m: This error originates from a subprocess, and is likely not a problem with pip.\n",
            "  Preparing metadata (setup.py) ... \u001b[?25l\u001b[?25herror\n",
            "\u001b[1;31merror\u001b[0m: \u001b[1mmetadata-generation-failed\u001b[0m\n",
            "\n",
            "\u001b[31m×\u001b[0m Encountered error while generating package metadata.\n",
            "\u001b[31m╰─>\u001b[0m See above for output.\n",
            "\n",
            "\u001b[1;35mnote\u001b[0m: This is an issue with the package mentioned above, not pip.\n",
            "\u001b[1;36mhint\u001b[0m: See above for details.\n"
          ]
        }
      ]
    },
    {
      "cell_type": "code",
      "source": [
        "import numpy as np\n",
        "import nltk\n",
        "#import strings\n",
        "import random"
      ],
      "metadata": {
        "id": "JUToHigzgekL"
      },
      "execution_count": 30,
      "outputs": []
    },
    {
      "cell_type": "code",
      "source": [
        "f = open('/content/data.txt','r',errors = 'ignore')\n",
        "raw_doc = f.read()"
      ],
      "metadata": {
        "id": "hLRKvM9Hgl8c"
      },
      "execution_count": 31,
      "outputs": []
    },
    {
      "cell_type": "code",
      "source": [
        "raw_doc"
      ],
      "metadata": {
        "colab": {
          "base_uri": "https://localhost:8080/",
          "height": 244
        },
        "id": "tXwtVP_EjqgA",
        "outputId": "20df7d8b-d5a4-4a08-e5d1-f629dc753e14"
      },
      "execution_count": 32,
      "outputs": [
        {
          "output_type": "execute_result",
          "data": {
            "text/plain": [
              "'Skip to content\\nMayo Clinic Home Page\\n\\nCare at\\nMayo Clinic\\n\\nHealth\\nLibrary\\n\\nFor Medical\\nProfessionals\\n\\nResearch & Education\\nat Mayo Clinic\\nRequest appointment\\nDonate\\nLog in\\n\\nSearch\\nDiseases & Conditions\\nFever\\nRequest an Appointment\\nOverview\\nA fever is a temporary rise in body temperature. It\\'s one part of an overall response from the body\\'s immune system. A fever is usually caused by an infection.\\n\\nFor most children and adults, a fever may be uncomfortable. But it usually isn\\'t a cause for concern. For infants, however, even a low fever may mean there\\'s a serious infection.\\n\\nFevers generally go away within a few days. A number of over-the-counter medications lower a fever. But you don\\'t necessarily need to treat a fever if it\\'s not causing discomfort.\\n\\nProducts & Services\\nBook: Mayo Clinic Book of Home Remedies\\nSymptoms\\nBody temperatures vary slightly from person to person and at different times of day. The average temperature has traditionally been defined as 98.6 F (37 C). A temperature taken using a mouth thermometer (oral temperature) that\\'s 100 F (37.8 C) or higher is generally considered to be a fever.\\n\\nDepending on what\\'s causing a fever, other fever signs and symptoms may include:\\n\\nSweating\\nChills and shivering\\nHeadache\\nMuscle aches\\nLoss of appetite\\nIrritability\\nDehydration\\nGeneral weakness\\nTaking a temperature\\nTo take a temperature, you can choose from several types of thermometers, including oral, rectal, ear (tympanic) and forehead (temporal artery) thermometers.\\n\\nOral and rectal thermometers generally provide the most accurate measurement of core body temperature. Ear or forehead thermometers, although convenient, provide less accurate temperature measurements.\\n\\nIn infants, a rectal temperature, if doable, is somewhat more accurate. When reporting a temperature to your health care provider, give both the reading and the type of thermometer used.\\n\\nWhen to see a doctor\\nFevers by themselves may not be a cause for alarm — or a reason to call a doctor. Yet there are some circumstances when you should seek medical advice for your baby, your child or yourself.\\n\\nInfants and toddlers\\nA fever is a particular cause for concern in infants and toddlers. Call your baby\\'s health care provider if your child is:\\n\\nYounger than 3 months old and has a rectal temperature of 100.4 F (38 C) or higher.\\nBetween 3 and 6 months old and has a rectal temperature higher than 102 F (38.9 C) or has a lower temperature but seems unusually irritable, sluggish or uncomfortable.\\nBetween 7 and 24 months old and has a rectal temperature higher than 102 F (38.9 C) that lasts longer than one day but shows no other symptoms. If your child also has other signs and symptoms, such as a runny nose, cough or diarrhea, you can call sooner.\\nChildren\\nThere\\'s probably no cause for alarm if your child has a fever but is responsive. This means your child makes eye contact with you and responds to your facial expressions and to your voice. Your child may also be drinking fluids and playing.\\n\\nCall your child\\'s health care provider if your child:\\n\\nIs listless, confused or has poor eye contact with you.\\nIs irritable, vomits repeatedly, has a severe headache, sore throat, stomachache or other symptoms causing a lot of discomfort.\\nHas a fever after being left in a hot car. Seek medical care immediately.\\nHas a fever that lasts longer than three days.\\nHas a seizure associated with the fever. Call 911 if the seizure lasts more than five minutes or your child doesn\\'t recover quickly.\\nAsk your child\\'s health care provider for guidance in special circumstances, such as a child with immune system problems or with a preexisting illness.\\n\\nAdults\\nCall your health care provider if your temperature is 103 F (39.4 C) or higher. Seek immediate medical attention if any of these signs or symptoms accompanies a fever:\\n\\nSevere headache\\nRash\\nUnusual sensitivity to bright light\\nStiff neck and pain when you bend your head forward\\nMental confusion, strange behavior or altered speech\\nPersistent vomiting\\nDifficulty breathing or chest pain\\nAbdominal pain\\nPain when urinating\\nConvulsions or seizures\\nRequest an appointment\\n \\nFrom Mayo Clinic to your inbox\\nSign up for free, and stay up to date on research advancements, health tips and current health topics, like COVID-19, plus expertise on managing health. Click here for an email preview.\\n\\nEnter your email\\nEmailLearn more about Mayo Clinic’s use of data.\\nSubscribe!\\nCauses\\nTypical body temperature is a balance of heat production and heat loss. An area in the brain called the hypothalamus (hi-poe-THAL-uh-muhs) — also known as your body\\'s \"thermostat\" — monitors this balance. Even when you\\'re healthy, your body temperature varies slightly throughout the day. It can be lower in the morning and higher in the late afternoon and evening.\\n\\nWhen your immune system responds to disease, the hypothalamus can set your body temperature higher. This prompts complex processes that produce more heat and restrict heat loss. The shivering you might experience is one way the body produces heat. When you wrap up in a blanket because you feel chilled, you are helping your body retain heat.\\n\\nFevers below 104 F (40 C) associated with common viral infections, such as the flu, may help the immune system fight disease and are generally not harmful.\\n\\nFever or elevated body temperature might be caused by:\\n\\nA viral infection\\nA bacterial infection\\nHeat exhaustion\\nCertain inflammatory conditions such as rheumatoid arthritis — inflammation of the lining of your joints (synovium)\\nA cancerous (malignant) tumor\\nSome medications, such as antibiotics and drugs used to treat high blood pressure or seizures\\nSome immunizations, such as the diphtheria, tetanus and acellular pertussis (DTaP), pneumococcal or COVID vaccine\\nComplications\\nChildren between the ages of 6 months and 5 years are at increased risk of a seizure that occurs during a fever (febrile seizure). About a third of the children who have one febrile seizure will have another one, most commonly within the next 12 months.\\n\\nA febrile seizure may involve loss of consciousness, shaking of limbs on both sides of the body, eyes rolling back or body stiffness. Although alarming for parents, the vast majority of febrile seizures cause no lasting effects.\\n\\nIf a seizure occurs:\\n\\nLay your child on the side or stomach on the floor or ground\\nRemove any sharp objects that are near your child\\nLoosen tight clothing\\nHold your child to prevent injury\\nDon\\'t place anything in your child\\'s mouth or try to stop the seizure\\nCall 911 or your local emergency number if a seizure lasts more than five minutes or your child doesn\\'t appear to recover well after the seizure\\nGet emergency room or urgent care services if it\\'s your child\\'s first febrile seizure.\\nIf your child doesn\\'t need emergency care, see your child\\'s health care provider as soon as possible for further evaluation.\\n\\nPrevention\\nYou may be able to prevent fevers by reducing exposure to infectious diseases. Here are some tips that can help:\\n\\nGet vaccinated as recommended for infectious diseases, such as influenza and COVID-19.\\nFollow public health guidelines for wearing masks and social distancing.\\nWash your hands often and teach your children to do the same, especially before eating, after using the toilet, after spending time in a crowd or around someone who\\'s sick, after petting animals, and during travel on public transportation.\\nShow your children how to wash their hands thoroughly, covering both the front and back of each hand with soap and rinsing completely under running water.\\nCarry hand sanitizer with you for times when you don\\'t have access to soap and water.\\nTry to avoid touching your nose, mouth or eyes, as these are the main ways that viruses and bacteria can enter your body and cause infection.\\nCover your mouth when you cough and your nose when you sneeze, and teach your children to do the same. Whenever possible, turn away from others and cough or sneeze into your elbow to avoid passing germs along to them.\\nAvoid sharing cups, water bottles and utensils with your child or children.\\n\\nBy Mayo Clinic Staff\\nRequest an appointment\\nDiagnosis & treatment\\nMay 07, 2022\\nPrint\\nShow references\\nRelated\\nFever treatment: Quick guide to treating a fever\\nThermometers: Understand the options\\nAssociated Procedures\\nX-ray\\nNews from Mayo Clinic\\nMayo Clinic Minute: Acetaminophen aids with fever, pain\\nMayo Clinic Minute: What to do and not do when your child has a viral fever\\nProducts & Services\\nBook: Mayo Clinic Book of Home Remedies\\nAdvertisement\\n\\nMayo Clinic does not endorse companies or products. Advertising revenue supports our not-for-profit mission.\\n\\nAdvertising & Sponsorship\\nPolicyOpportunitiesAd Choices\\nMayo Clinic Press\\nCheck out these best-sellers and special offers on books and newsletters from Mayo Clinic Press.\\n\\nMayo Clinic on Incontinence - Mayo Clinic PressMayo Clinic on Incontinence\\nNEW – Future Care - Mayo Clinic PressNEW – Future Care\\nMayo Clinic on Hearing and Balance - Mayo Clinic PressMayo Clinic on Hearing and Balance\\nFREE Mayo Clinic Diet Assessment - Mayo Clinic PressFREE Mayo Clinic Diet Assessment\\nMayo Clinic Health Letter - FREE book - Mayo Clinic PressMayo Clinic Health Letter - FREE book\\n\\nCON-20305540\\nPatient Care & Health Information\\nDiseases & Conditions\\nFever\\n\\nYour gift holds great power – donate today!\\nMake your tax-deductible gift and be a part of the cutting-edge research and care that\\'s changing medicine.\\n\\nDonate\\nFind a doctor\\nExplore careers\\nSign up for free e-newsletters\\nAbout Mayo Clinic \\nAbout this Site\\nContact Us\\nLocations\\nHealth Information Policy\\nMedia Requests\\nNews Network\\nMedical Professionals \\nAskMayoExpert\\nClinical Trials\\nMayo Clinic Alumni Association\\nRefer a Patient\\nBusinesses \\nExecutive Health Program\\nInternational Business Collaborations\\nFacilities & Real Estate\\nSupplier Information\\nStudents \\nAdmissions Requirements\\nDegree Programs\\nStudent & Faculty Portal\\nResearchers \\nResearch Faculty\\nLaboratories\\nInternational Patients \\nAppointments\\nFinancial Services\\nInternational Locations & Offices\\nCharitable Care & Financial Assistance \\nCommunity Health Needs Assessment\\nFinancial Assistance Documents – Arizona\\nFinancial Assistance Documents – Florida\\nFinancial Assistance Documents – Minnesota\\nFollow Mayo Clinic\\nTwitter\\nYoutube\\nFacebook\\nLinkedin\\nInstagram\\nGet the Mayo Clinic app\\nAndroid App on Google Play\\nApple Download on the App Store\\nTerms & Conditions\\nPrivacy Policy\\nNotice of Privacy Practices\\nNotice of Nondiscrimination\\nAdvertising & Sponsorship Policy\\nSite Map\\n© 1998-2023 Mayo Foundation for Medical Education and Research (MFMER). All rights reserved.\\n\\nLanguage:\\n\\nEnglish\\n\\nSkip to content\\nMayo Clinic Home Page\\n\\nCare at\\nMayo Clinic\\n\\nHealth\\nLibrary\\n\\nFor Medical\\nProfessionals\\n\\nResearch & Education\\nat Mayo Clinic\\nRequest appointment\\nDonate\\nLog in\\n\\nSearch\\nDiseases & Conditions\\nCommon cold\\nRequest an Appointment\\nOverview\\nRelated information\\nCOVID-19, cold, allergies and the flu: What are the differences? - Related informationCOVID-19, cold, allergies and the flu: What are the differences?\\nThe common cold is an illness affecting your nose and throat. Most often, it\\'s harmless, but it might not feel that way. Germs called viruses cause a common cold.\\n\\nOften, adults may have two or three colds each year. Infants and young children may have colds more often.\\n\\nMost people recover from a common cold in 7 to 10 days. Symptoms might last longer in people who smoke. Most often, you don\\'t need medical care for a common cold. If symptoms don\\'t get better or if they get worse, see your health care provider.\\n\\nIllnesses of the nose and throat caused by germs are called upper respiratory tract infections.\\n\\nProducts & Services\\nBook: Mayo Clinic Book of Home Remedies\\nSymptoms\\nMost often, common cold symptoms start 1 to 3 days after someone is exposed to a cold virus. Symptoms vary. They can include:\\n\\nRunny or stuffy nose.\\nSore or scratchy throat.\\nCough.\\nSneezing.\\nGenerally feeling unwell.\\nSlight body aches or a mild headache.\\nLow-grade fever.\\nThe mucus from your nose may start out clear and become thicker and yellow or green. This change is normal. Most often, it doesn\\'t mean that you have a bacterial illness.\\n\\nWhen to see a doctor\\nFor adults. Most often, you don\\'t need medical care for a common cold. But see your health care provider if you have:\\n\\nSymptoms that get worse or do not get better.\\nFever greater than 101.3 degrees Fahrenheit (38.5 degrees Celsius) that lasts more than three days.\\nFever returning after a fever-free period.\\nShortness of breath.\\nWheezing.\\nIntense sore throat, headache or sinus pain.\\nFor children. Most children with a common cold don\\'t need to see a health care provider. Get medical care right away if your child has any of the following:\\n\\nFever of 100.4 degrees Fahrenheit (38 degrees Celsius) in newborns up to 12 weeks.\\nRising fever or fever lasting more than two days in a child of any age.\\nMore-intense symptoms, such as headache, throat pain or cough.\\nTrouble with breathing or wheezing.\\nEar pain.\\nFussiness or drowsiness that isn\\'t typical.\\nNo interest in eating.\\nRequest an appointment\\n \\nFrom Mayo Clinic to your inbox\\nSign up for free, and stay up to date on research advancements, health tips and current health topics, like COVID-19, plus expertise on managing health. Click here for an email preview.\\n\\nEnter your email\\nEmailLearn more about Mayo Clinic’s use of data.\\nSubscribe!\\nCauses\\nMany viruses can cause a common cold. Rhinoviruses are the most common cause.\\n\\nA cold virus enters the body through the mouth, eyes or nose. The virus can spread by:\\n\\nDroplets in the air when someone who is sick coughs, sneezes or talks.\\nHand-to-hand contact with someone who has a cold.\\nSharing objects with the virus on them, such as dishes, towels, toys or telephones.\\nTouching your eyes, nose or mouth after contact with the virus.\\nRisk factors\\nThese factors can increase the chances of getting a cold:\\n\\nAge. Infants and young children have a greater risk of colds than other people, especially if they spend time in child care settings.\\nWeakened immune system. Having a long-term illness or weakened immune system increases your risk.\\nTime of year. Both children and adults are more likely to get colds in fall and winter.\\nSmoking. Smoking or being around secondhand smoke increases the risk of catching a cold.\\nExposure. Being in crowds, such as at school or on an airplane, increases the chance of getting a cold.\\nComplications\\nThese conditions can occur along with your cold:\\n\\nMiddle ear infection. This is the swelling and build-up of fluids in the space behind the eardrum. It may be caused by a virus or bacteria. Typical signs and symptoms include earaches or the return of a fever following a common cold.\\nAsthma. A cold can trigger wheezing, even in people who don\\'t have asthma. For people with asthma, a cold can make it worse.\\nSinusitis. In adults or children, a common cold that lasts a while can lead to swelling and pain in the sinuses. These are air-filled spaces in the skull above the eyes and around the nose. A virus or bacteria may cause sinusitis.\\nOther illnesses. A common cold can lead to illnesses of the lungs, such as pneumonia or bronchitis. People with asthma or weakened immune systems have an increased risk of these conditions.\\nMore Information\\nPlugged ears: What is the remedy?\\nPrevention\\nThere\\'s no vaccine for the common cold. You can take these steps to slow the spread of the virus and prevent illness:\\n\\nWash your hands. Wash your hands well and often with soap and water for at least 20 seconds. If soap and water aren\\'t available, use an alcohol-based hand sanitizer with at least 60% alcohol. Teach your children the importance of hand-washing. Try not to touch your eyes, nose or mouth with unwashed hands.\\nClean and disinfect. Clean and disinfect surfaces that are touched often. These include doorknobs, light switches, electronics, and kitchen and bathroom countertops. This is especially important when someone in your family has a cold. Wash children\\'s toys often.\\nCover your cough. Sneeze and cough into tissues. Throw away used tissues right away, and then wash your hands. If you don\\'t have a tissue, sneeze or cough into the bend of your elbow, and then wash your hands.\\nDon\\'t share. Don\\'t share drinking glasses or silverware with other family members.\\nStay away from people with colds. Avoid close contact with anyone who has a cold. Stay out of crowds when possible. Try not to touch your eyes, nose and mouth when you\\'re in crowds.\\nReview your child care center\\'s policies. Look for a child care setting with good hygiene practices and clear policies about keeping sick children at home.\\nTake care of yourself. Eat well, exercise and get plenty of sleep to help you stay healthy.\\n\\nBy Mayo Clinic Staff\\nRequest an appointment\\nDiagnosis & treatment\\nMay 24, 2023\\nPrint\\nShow references\\nRelated\\nCold or allergy: Which is it?\\nCold remedies\\nCold symptoms: Does drinking milk increase phlegm?\\nShow more related content\\nNews from Mayo Clinic\\nMayo Clinic Q and A: Decongestants can sometimes cause more harm than good\\nMayo Clinic Q and A: Myths about catching a cold\\nProducts & Services\\nBook: Mayo Clinic Book of Home Remedies\\nAdvertisement\\n\\nMayo Clinic does not endorse companies or products. Advertising revenue supports our not-for-profit mission.\\n\\nAdvertising & Sponsorship\\nPolicyOpportunitiesAd Choices\\nMayo Clinic Press\\nCheck out these best-sellers and special offers on books and newsletters from Mayo Clinic Press.\\n\\nMayo Clinic on Incontinence - Mayo Clinic PressMayo Clinic on Incontinence\\nNEW – Future Care - Mayo Clinic PressNEW – Future Care\\nMayo Clinic on Hearing and Balance - Mayo Clinic PressMayo Clinic on Hearing and Balance\\nFREE Mayo Clinic Diet Assessment - Mayo Clinic PressFREE Mayo Clinic Diet Assessment\\nMayo Clinic Health Letter - FREE book - Mayo Clinic PressMayo Clinic Health Letter - FREE book\\n\\nCON-20163999\\nPatient Care & Health Information\\nDiseases & Conditions\\nCommon cold\\n\\nYour gift holds great power – donate today!\\nMake your tax-deductible gift and be a part of the cutting-edge research and care that\\'s changing medicine.\\n\\nDonate\\nFind a doctor\\nExplore careers\\nSign up for free e-newsletters\\nAbout Mayo Clinic \\nAbout this Site\\nContact Us\\nLocations\\nHealth Information Policy\\nMedia Requests\\nNews Network\\nMedical Professionals \\nAskMayoExpert\\nClinical Trials\\nMayo Clinic Alumni Association\\nRefer a Patient\\nBusinesses \\nExecutive Health Program\\nInternational Business Collaborations\\nFacilities & Real Estate\\nSupplier Information\\nStudents \\nAdmissions Requirements\\nDegree Programs\\nStudent & Faculty Portal\\nResearchers \\nResearch Faculty\\nLaboratories\\nInternational Patients \\nAppointments\\nFinancial Services\\nInternational Locations & Offices\\nCharitable Care & Financial Assistance \\nCommunity Health Needs Assessment\\nFinancial Assistance Documents – Arizona\\nFinancial Assistance Documents – Florida\\nFinancial Assistance Documents – Minnesota\\nFollow Mayo Clinic\\nTwitter\\nYoutube\\nFacebook\\nLinkedin\\nInstagram\\nGet the Mayo Clinic app\\nAndroid App on Google Play\\nApple Download on the App Store\\nTerms & Conditions\\nPrivacy Policy\\nNotice of Privacy Practices\\nNotice of Nondiscrimination\\nAdvertising & Sponsorship Policy\\nSite Map\\n© 1998-2023 Mayo Foundation for Medical Education and Research (MFMER). All rights reserved.\\n\\nLanguage:\\n\\nEnglish'"
            ],
            "application/vnd.google.colaboratory.intrinsic+json": {
              "type": "string"
            }
          },
          "metadata": {},
          "execution_count": 32
        }
      ]
    },
    {
      "cell_type": "code",
      "source": [
        "rawdoc = raw_doc.lower()\n",
        "nltk.download('punkt')\n",
        "nltk.download('wordnet')\n",
        "nltk.download('omw-1.4')\n",
        "sentence_tokens = nltk.sent_tokenize(raw_doc)\n",
        "word_tokens = nltk.word_tokenize(raw_doc)"
      ],
      "metadata": {
        "colab": {
          "base_uri": "https://localhost:8080/"
        },
        "id": "migpODqQjsDs",
        "outputId": "36c2eb03-8eba-4b2c-b120-e845649a8a07"
      },
      "execution_count": 36,
      "outputs": [
        {
          "output_type": "stream",
          "name": "stderr",
          "text": [
            "[nltk_data] Downloading package punkt to /root/nltk_data...\n",
            "[nltk_data]   Package punkt is already up-to-date!\n",
            "[nltk_data] Downloading package wordnet to /root/nltk_data...\n",
            "[nltk_data]   Package wordnet is already up-to-date!\n",
            "[nltk_data] Downloading package omw-1.4 to /root/nltk_data...\n",
            "[nltk_data]   Package omw-1.4 is already up-to-date!\n"
          ]
        }
      ]
    },
    {
      "cell_type": "code",
      "source": [
        "print(word_tokens)"
      ],
      "metadata": {
        "colab": {
          "base_uri": "https://localhost:8080/"
        },
        "id": "nWn904JbkpVf",
        "outputId": "b5a3bb58-ca13-4d1c-bcb8-b900ddea1ca8"
      },
      "execution_count": 37,
      "outputs": [
        {
          "output_type": "stream",
          "name": "stdout",
          "text": [
            "['Skip', 'to', 'content', 'Mayo', 'Clinic', 'Home', 'Page', 'Care', 'at', 'Mayo', 'Clinic', 'Health', 'Library', 'For', 'Medical', 'Professionals', 'Research', '&', 'Education', 'at', 'Mayo', 'Clinic', 'Request', 'appointment', 'Donate', 'Log', 'in', 'Search', 'Diseases', '&', 'Conditions', 'Fever', 'Request', 'an', 'Appointment', 'Overview', 'A', 'fever', 'is', 'a', 'temporary', 'rise', 'in', 'body', 'temperature', '.', 'It', \"'s\", 'one', 'part', 'of', 'an', 'overall', 'response', 'from', 'the', 'body', \"'s\", 'immune', 'system', '.', 'A', 'fever', 'is', 'usually', 'caused', 'by', 'an', 'infection', '.', 'For', 'most', 'children', 'and', 'adults', ',', 'a', 'fever', 'may', 'be', 'uncomfortable', '.', 'But', 'it', 'usually', 'is', \"n't\", 'a', 'cause', 'for', 'concern', '.', 'For', 'infants', ',', 'however', ',', 'even', 'a', 'low', 'fever', 'may', 'mean', 'there', \"'s\", 'a', 'serious', 'infection', '.', 'Fevers', 'generally', 'go', 'away', 'within', 'a', 'few', 'days', '.', 'A', 'number', 'of', 'over-the-counter', 'medications', 'lower', 'a', 'fever', '.', 'But', 'you', 'do', \"n't\", 'necessarily', 'need', 'to', 'treat', 'a', 'fever', 'if', 'it', \"'s\", 'not', 'causing', 'discomfort', '.', 'Products', '&', 'Services', 'Book', ':', 'Mayo', 'Clinic', 'Book', 'of', 'Home', 'Remedies', 'Symptoms', 'Body', 'temperatures', 'vary', 'slightly', 'from', 'person', 'to', 'person', 'and', 'at', 'different', 'times', 'of', 'day', '.', 'The', 'average', 'temperature', 'has', 'traditionally', 'been', 'defined', 'as', '98.6', 'F', '(', '37', 'C', ')', '.', 'A', 'temperature', 'taken', 'using', 'a', 'mouth', 'thermometer', '(', 'oral', 'temperature', ')', 'that', \"'s\", '100', 'F', '(', '37.8', 'C', ')', 'or', 'higher', 'is', 'generally', 'considered', 'to', 'be', 'a', 'fever', '.', 'Depending', 'on', 'what', \"'s\", 'causing', 'a', 'fever', ',', 'other', 'fever', 'signs', 'and', 'symptoms', 'may', 'include', ':', 'Sweating', 'Chills', 'and', 'shivering', 'Headache', 'Muscle', 'aches', 'Loss', 'of', 'appetite', 'Irritability', 'Dehydration', 'General', 'weakness', 'Taking', 'a', 'temperature', 'To', 'take', 'a', 'temperature', ',', 'you', 'can', 'choose', 'from', 'several', 'types', 'of', 'thermometers', ',', 'including', 'oral', ',', 'rectal', ',', 'ear', '(', 'tympanic', ')', 'and', 'forehead', '(', 'temporal', 'artery', ')', 'thermometers', '.', 'Oral', 'and', 'rectal', 'thermometers', 'generally', 'provide', 'the', 'most', 'accurate', 'measurement', 'of', 'core', 'body', 'temperature', '.', 'Ear', 'or', 'forehead', 'thermometers', ',', 'although', 'convenient', ',', 'provide', 'less', 'accurate', 'temperature', 'measurements', '.', 'In', 'infants', ',', 'a', 'rectal', 'temperature', ',', 'if', 'doable', ',', 'is', 'somewhat', 'more', 'accurate', '.', 'When', 'reporting', 'a', 'temperature', 'to', 'your', 'health', 'care', 'provider', ',', 'give', 'both', 'the', 'reading', 'and', 'the', 'type', 'of', 'thermometer', 'used', '.', 'When', 'to', 'see', 'a', 'doctor', 'Fevers', 'by', 'themselves', 'may', 'not', 'be', 'a', 'cause', 'for', 'alarm', '—', 'or', 'a', 'reason', 'to', 'call', 'a', 'doctor', '.', 'Yet', 'there', 'are', 'some', 'circumstances', 'when', 'you', 'should', 'seek', 'medical', 'advice', 'for', 'your', 'baby', ',', 'your', 'child', 'or', 'yourself', '.', 'Infants', 'and', 'toddlers', 'A', 'fever', 'is', 'a', 'particular', 'cause', 'for', 'concern', 'in', 'infants', 'and', 'toddlers', '.', 'Call', 'your', 'baby', \"'s\", 'health', 'care', 'provider', 'if', 'your', 'child', 'is', ':', 'Younger', 'than', '3', 'months', 'old', 'and', 'has', 'a', 'rectal', 'temperature', 'of', '100.4', 'F', '(', '38', 'C', ')', 'or', 'higher', '.', 'Between', '3', 'and', '6', 'months', 'old', 'and', 'has', 'a', 'rectal', 'temperature', 'higher', 'than', '102', 'F', '(', '38.9', 'C', ')', 'or', 'has', 'a', 'lower', 'temperature', 'but', 'seems', 'unusually', 'irritable', ',', 'sluggish', 'or', 'uncomfortable', '.', 'Between', '7', 'and', '24', 'months', 'old', 'and', 'has', 'a', 'rectal', 'temperature', 'higher', 'than', '102', 'F', '(', '38.9', 'C', ')', 'that', 'lasts', 'longer', 'than', 'one', 'day', 'but', 'shows', 'no', 'other', 'symptoms', '.', 'If', 'your', 'child', 'also', 'has', 'other', 'signs', 'and', 'symptoms', ',', 'such', 'as', 'a', 'runny', 'nose', ',', 'cough', 'or', 'diarrhea', ',', 'you', 'can', 'call', 'sooner', '.', 'Children', 'There', \"'s\", 'probably', 'no', 'cause', 'for', 'alarm', 'if', 'your', 'child', 'has', 'a', 'fever', 'but', 'is', 'responsive', '.', 'This', 'means', 'your', 'child', 'makes', 'eye', 'contact', 'with', 'you', 'and', 'responds', 'to', 'your', 'facial', 'expressions', 'and', 'to', 'your', 'voice', '.', 'Your', 'child', 'may', 'also', 'be', 'drinking', 'fluids', 'and', 'playing', '.', 'Call', 'your', 'child', \"'s\", 'health', 'care', 'provider', 'if', 'your', 'child', ':', 'Is', 'listless', ',', 'confused', 'or', 'has', 'poor', 'eye', 'contact', 'with', 'you', '.', 'Is', 'irritable', ',', 'vomits', 'repeatedly', ',', 'has', 'a', 'severe', 'headache', ',', 'sore', 'throat', ',', 'stomachache', 'or', 'other', 'symptoms', 'causing', 'a', 'lot', 'of', 'discomfort', '.', 'Has', 'a', 'fever', 'after', 'being', 'left', 'in', 'a', 'hot', 'car', '.', 'Seek', 'medical', 'care', 'immediately', '.', 'Has', 'a', 'fever', 'that', 'lasts', 'longer', 'than', 'three', 'days', '.', 'Has', 'a', 'seizure', 'associated', 'with', 'the', 'fever', '.', 'Call', '911', 'if', 'the', 'seizure', 'lasts', 'more', 'than', 'five', 'minutes', 'or', 'your', 'child', 'does', \"n't\", 'recover', 'quickly', '.', 'Ask', 'your', 'child', \"'s\", 'health', 'care', 'provider', 'for', 'guidance', 'in', 'special', 'circumstances', ',', 'such', 'as', 'a', 'child', 'with', 'immune', 'system', 'problems', 'or', 'with', 'a', 'preexisting', 'illness', '.', 'Adults', 'Call', 'your', 'health', 'care', 'provider', 'if', 'your', 'temperature', 'is', '103', 'F', '(', '39.4', 'C', ')', 'or', 'higher', '.', 'Seek', 'immediate', 'medical', 'attention', 'if', 'any', 'of', 'these', 'signs', 'or', 'symptoms', 'accompanies', 'a', 'fever', ':', 'Severe', 'headache', 'Rash', 'Unusual', 'sensitivity', 'to', 'bright', 'light', 'Stiff', 'neck', 'and', 'pain', 'when', 'you', 'bend', 'your', 'head', 'forward', 'Mental', 'confusion', ',', 'strange', 'behavior', 'or', 'altered', 'speech', 'Persistent', 'vomiting', 'Difficulty', 'breathing', 'or', 'chest', 'pain', 'Abdominal', 'pain', 'Pain', 'when', 'urinating', 'Convulsions', 'or', 'seizures', 'Request', 'an', 'appointment', 'From', 'Mayo', 'Clinic', 'to', 'your', 'inbox', 'Sign', 'up', 'for', 'free', ',', 'and', 'stay', 'up', 'to', 'date', 'on', 'research', 'advancements', ',', 'health', 'tips', 'and', 'current', 'health', 'topics', ',', 'like', 'COVID-19', ',', 'plus', 'expertise', 'on', 'managing', 'health', '.', 'Click', 'here', 'for', 'an', 'email', 'preview', '.', 'Enter', 'your', 'email', 'EmailLearn', 'more', 'about', 'Mayo', 'Clinic', '’', 's', 'use', 'of', 'data', '.', 'Subscribe', '!', 'Causes', 'Typical', 'body', 'temperature', 'is', 'a', 'balance', 'of', 'heat', 'production', 'and', 'heat', 'loss', '.', 'An', 'area', 'in', 'the', 'brain', 'called', 'the', 'hypothalamus', '(', 'hi-poe-THAL-uh-muhs', ')', '—', 'also', 'known', 'as', 'your', 'body', \"'s\", '``', 'thermostat', \"''\", '—', 'monitors', 'this', 'balance', '.', 'Even', 'when', 'you', \"'re\", 'healthy', ',', 'your', 'body', 'temperature', 'varies', 'slightly', 'throughout', 'the', 'day', '.', 'It', 'can', 'be', 'lower', 'in', 'the', 'morning', 'and', 'higher', 'in', 'the', 'late', 'afternoon', 'and', 'evening', '.', 'When', 'your', 'immune', 'system', 'responds', 'to', 'disease', ',', 'the', 'hypothalamus', 'can', 'set', 'your', 'body', 'temperature', 'higher', '.', 'This', 'prompts', 'complex', 'processes', 'that', 'produce', 'more', 'heat', 'and', 'restrict', 'heat', 'loss', '.', 'The', 'shivering', 'you', 'might', 'experience', 'is', 'one', 'way', 'the', 'body', 'produces', 'heat', '.', 'When', 'you', 'wrap', 'up', 'in', 'a', 'blanket', 'because', 'you', 'feel', 'chilled', ',', 'you', 'are', 'helping', 'your', 'body', 'retain', 'heat', '.', 'Fevers', 'below', '104', 'F', '(', '40', 'C', ')', 'associated', 'with', 'common', 'viral', 'infections', ',', 'such', 'as', 'the', 'flu', ',', 'may', 'help', 'the', 'immune', 'system', 'fight', 'disease', 'and', 'are', 'generally', 'not', 'harmful', '.', 'Fever', 'or', 'elevated', 'body', 'temperature', 'might', 'be', 'caused', 'by', ':', 'A', 'viral', 'infection', 'A', 'bacterial', 'infection', 'Heat', 'exhaustion', 'Certain', 'inflammatory', 'conditions', 'such', 'as', 'rheumatoid', 'arthritis', '—', 'inflammation', 'of', 'the', 'lining', 'of', 'your', 'joints', '(', 'synovium', ')', 'A', 'cancerous', '(', 'malignant', ')', 'tumor', 'Some', 'medications', ',', 'such', 'as', 'antibiotics', 'and', 'drugs', 'used', 'to', 'treat', 'high', 'blood', 'pressure', 'or', 'seizures', 'Some', 'immunizations', ',', 'such', 'as', 'the', 'diphtheria', ',', 'tetanus', 'and', 'acellular', 'pertussis', '(', 'DTaP', ')', ',', 'pneumococcal', 'or', 'COVID', 'vaccine', 'Complications', 'Children', 'between', 'the', 'ages', 'of', '6', 'months', 'and', '5', 'years', 'are', 'at', 'increased', 'risk', 'of', 'a', 'seizure', 'that', 'occurs', 'during', 'a', 'fever', '(', 'febrile', 'seizure', ')', '.', 'About', 'a', 'third', 'of', 'the', 'children', 'who', 'have', 'one', 'febrile', 'seizure', 'will', 'have', 'another', 'one', ',', 'most', 'commonly', 'within', 'the', 'next', '12', 'months', '.', 'A', 'febrile', 'seizure', 'may', 'involve', 'loss', 'of', 'consciousness', ',', 'shaking', 'of', 'limbs', 'on', 'both', 'sides', 'of', 'the', 'body', ',', 'eyes', 'rolling', 'back', 'or', 'body', 'stiffness', '.', 'Although', 'alarming', 'for', 'parents', ',', 'the', 'vast', 'majority', 'of', 'febrile', 'seizures', 'cause', 'no', 'lasting', 'effects', '.', 'If', 'a', 'seizure', 'occurs', ':', 'Lay', 'your', 'child', 'on', 'the', 'side', 'or', 'stomach', 'on', 'the', 'floor', 'or', 'ground', 'Remove', 'any', 'sharp', 'objects', 'that', 'are', 'near', 'your', 'child', 'Loosen', 'tight', 'clothing', 'Hold', 'your', 'child', 'to', 'prevent', 'injury', 'Do', \"n't\", 'place', 'anything', 'in', 'your', 'child', \"'s\", 'mouth', 'or', 'try', 'to', 'stop', 'the', 'seizure', 'Call', '911', 'or', 'your', 'local', 'emergency', 'number', 'if', 'a', 'seizure', 'lasts', 'more', 'than', 'five', 'minutes', 'or', 'your', 'child', 'does', \"n't\", 'appear', 'to', 'recover', 'well', 'after', 'the', 'seizure', 'Get', 'emergency', 'room', 'or', 'urgent', 'care', 'services', 'if', 'it', \"'s\", 'your', 'child', \"'s\", 'first', 'febrile', 'seizure', '.', 'If', 'your', 'child', 'does', \"n't\", 'need', 'emergency', 'care', ',', 'see', 'your', 'child', \"'s\", 'health', 'care', 'provider', 'as', 'soon', 'as', 'possible', 'for', 'further', 'evaluation', '.', 'Prevention', 'You', 'may', 'be', 'able', 'to', 'prevent', 'fevers', 'by', 'reducing', 'exposure', 'to', 'infectious', 'diseases', '.', 'Here', 'are', 'some', 'tips', 'that', 'can', 'help', ':', 'Get', 'vaccinated', 'as', 'recommended', 'for', 'infectious', 'diseases', ',', 'such', 'as', 'influenza', 'and', 'COVID-19', '.', 'Follow', 'public', 'health', 'guidelines', 'for', 'wearing', 'masks', 'and', 'social', 'distancing', '.', 'Wash', 'your', 'hands', 'often', 'and', 'teach', 'your', 'children', 'to', 'do', 'the', 'same', ',', 'especially', 'before', 'eating', ',', 'after', 'using', 'the', 'toilet', ',', 'after', 'spending', 'time', 'in', 'a', 'crowd', 'or', 'around', 'someone', 'who', \"'s\", 'sick', ',', 'after', 'petting', 'animals', ',', 'and', 'during', 'travel', 'on', 'public', 'transportation', '.', 'Show', 'your', 'children', 'how', 'to', 'wash', 'their', 'hands', 'thoroughly', ',', 'covering', 'both', 'the', 'front', 'and', 'back', 'of', 'each', 'hand', 'with', 'soap', 'and', 'rinsing', 'completely', 'under', 'running', 'water', '.', 'Carry', 'hand', 'sanitizer', 'with', 'you', 'for', 'times', 'when', 'you', 'do', \"n't\", 'have', 'access', 'to', 'soap', 'and', 'water', '.', 'Try', 'to', 'avoid', 'touching', 'your', 'nose', ',', 'mouth', 'or', 'eyes', ',', 'as', 'these', 'are', 'the', 'main', 'ways', 'that', 'viruses', 'and', 'bacteria', 'can', 'enter', 'your', 'body', 'and', 'cause', 'infection', '.', 'Cover', 'your', 'mouth', 'when', 'you', 'cough', 'and', 'your', 'nose', 'when', 'you', 'sneeze', ',', 'and', 'teach', 'your', 'children', 'to', 'do', 'the', 'same', '.', 'Whenever', 'possible', ',', 'turn', 'away', 'from', 'others', 'and', 'cough', 'or', 'sneeze', 'into', 'your', 'elbow', 'to', 'avoid', 'passing', 'germs', 'along', 'to', 'them', '.', 'Avoid', 'sharing', 'cups', ',', 'water', 'bottles', 'and', 'utensils', 'with', 'your', 'child', 'or', 'children', '.', 'By', 'Mayo', 'Clinic', 'Staff', 'Request', 'an', 'appointment', 'Diagnosis', '&', 'treatment', 'May', '07', ',', '2022', 'Print', 'Show', 'references', 'Related', 'Fever', 'treatment', ':', 'Quick', 'guide', 'to', 'treating', 'a', 'fever', 'Thermometers', ':', 'Understand', 'the', 'options', 'Associated', 'Procedures', 'X-ray', 'News', 'from', 'Mayo', 'Clinic', 'Mayo', 'Clinic', 'Minute', ':', 'Acetaminophen', 'aids', 'with', 'fever', ',', 'pain', 'Mayo', 'Clinic', 'Minute', ':', 'What', 'to', 'do', 'and', 'not', 'do', 'when', 'your', 'child', 'has', 'a', 'viral', 'fever', 'Products', '&', 'Services', 'Book', ':', 'Mayo', 'Clinic', 'Book', 'of', 'Home', 'Remedies', 'Advertisement', 'Mayo', 'Clinic', 'does', 'not', 'endorse', 'companies', 'or', 'products', '.', 'Advertising', 'revenue', 'supports', 'our', 'not-for-profit', 'mission', '.', 'Advertising', '&', 'Sponsorship', 'PolicyOpportunitiesAd', 'Choices', 'Mayo', 'Clinic', 'Press', 'Check', 'out', 'these', 'best-sellers', 'and', 'special', 'offers', 'on', 'books', 'and', 'newsletters', 'from', 'Mayo', 'Clinic', 'Press', '.', 'Mayo', 'Clinic', 'on', 'Incontinence', '-', 'Mayo', 'Clinic', 'PressMayo', 'Clinic', 'on', 'Incontinence', 'NEW', '–', 'Future', 'Care', '-', 'Mayo', 'Clinic', 'PressNEW', '–', 'Future', 'Care', 'Mayo', 'Clinic', 'on', 'Hearing', 'and', 'Balance', '-', 'Mayo', 'Clinic', 'PressMayo', 'Clinic', 'on', 'Hearing', 'and', 'Balance', 'FREE', 'Mayo', 'Clinic', 'Diet', 'Assessment', '-', 'Mayo', 'Clinic', 'PressFREE', 'Mayo', 'Clinic', 'Diet', 'Assessment', 'Mayo', 'Clinic', 'Health', 'Letter', '-', 'FREE', 'book', '-', 'Mayo', 'Clinic', 'PressMayo', 'Clinic', 'Health', 'Letter', '-', 'FREE', 'book', 'CON-20305540', 'Patient', 'Care', '&', 'Health', 'Information', 'Diseases', '&', 'Conditions', 'Fever', 'Your', 'gift', 'holds', 'great', 'power', '–', 'donate', 'today', '!', 'Make', 'your', 'tax-deductible', 'gift', 'and', 'be', 'a', 'part', 'of', 'the', 'cutting-edge', 'research', 'and', 'care', 'that', \"'s\", 'changing', 'medicine', '.', 'Donate', 'Find', 'a', 'doctor', 'Explore', 'careers', 'Sign', 'up', 'for', 'free', 'e-newsletters', 'About', 'Mayo', 'Clinic', 'About', 'this', 'Site', 'Contact', 'Us', 'Locations', 'Health', 'Information', 'Policy', 'Media', 'Requests', 'News', 'Network', 'Medical', 'Professionals', 'AskMayoExpert', 'Clinical', 'Trials', 'Mayo', 'Clinic', 'Alumni', 'Association', 'Refer', 'a', 'Patient', 'Businesses', 'Executive', 'Health', 'Program', 'International', 'Business', 'Collaborations', 'Facilities', '&', 'Real', 'Estate', 'Supplier', 'Information', 'Students', 'Admissions', 'Requirements', 'Degree', 'Programs', 'Student', '&', 'Faculty', 'Portal', 'Researchers', 'Research', 'Faculty', 'Laboratories', 'International', 'Patients', 'Appointments', 'Financial', 'Services', 'International', 'Locations', '&', 'Offices', 'Charitable', 'Care', '&', 'Financial', 'Assistance', 'Community', 'Health', 'Needs', 'Assessment', 'Financial', 'Assistance', 'Documents', '–', 'Arizona', 'Financial', 'Assistance', 'Documents', '–', 'Florida', 'Financial', 'Assistance', 'Documents', '–', 'Minnesota', 'Follow', 'Mayo', 'Clinic', 'Twitter', 'Youtube', 'Facebook', 'Linkedin', 'Instagram', 'Get', 'the', 'Mayo', 'Clinic', 'app', 'Android', 'App', 'on', 'Google', 'Play', 'Apple', 'Download', 'on', 'the', 'App', 'Store', 'Terms', '&', 'Conditions', 'Privacy', 'Policy', 'Notice', 'of', 'Privacy', 'Practices', 'Notice', 'of', 'Nondiscrimination', 'Advertising', '&', 'Sponsorship', 'Policy', 'Site', 'Map', '©', '1998-2023', 'Mayo', 'Foundation', 'for', 'Medical', 'Education', 'and', 'Research', '(', 'MFMER', ')', '.', 'All', 'rights', 'reserved', '.', 'Language', ':', 'English', 'Skip', 'to', 'content', 'Mayo', 'Clinic', 'Home', 'Page', 'Care', 'at', 'Mayo', 'Clinic', 'Health', 'Library', 'For', 'Medical', 'Professionals', 'Research', '&', 'Education', 'at', 'Mayo', 'Clinic', 'Request', 'appointment', 'Donate', 'Log', 'in', 'Search', 'Diseases', '&', 'Conditions', 'Common', 'cold', 'Request', 'an', 'Appointment', 'Overview', 'Related', 'information', 'COVID-19', ',', 'cold', ',', 'allergies', 'and', 'the', 'flu', ':', 'What', 'are', 'the', 'differences', '?', '-', 'Related', 'informationCOVID-19', ',', 'cold', ',', 'allergies', 'and', 'the', 'flu', ':', 'What', 'are', 'the', 'differences', '?', 'The', 'common', 'cold', 'is', 'an', 'illness', 'affecting', 'your', 'nose', 'and', 'throat', '.', 'Most', 'often', ',', 'it', \"'s\", 'harmless', ',', 'but', 'it', 'might', 'not', 'feel', 'that', 'way', '.', 'Germs', 'called', 'viruses', 'cause', 'a', 'common', 'cold', '.', 'Often', ',', 'adults', 'may', 'have', 'two', 'or', 'three', 'colds', 'each', 'year', '.', 'Infants', 'and', 'young', 'children', 'may', 'have', 'colds', 'more', 'often', '.', 'Most', 'people', 'recover', 'from', 'a', 'common', 'cold', 'in', '7', 'to', '10', 'days', '.', 'Symptoms', 'might', 'last', 'longer', 'in', 'people', 'who', 'smoke', '.', 'Most', 'often', ',', 'you', 'do', \"n't\", 'need', 'medical', 'care', 'for', 'a', 'common', 'cold', '.', 'If', 'symptoms', 'do', \"n't\", 'get', 'better', 'or', 'if', 'they', 'get', 'worse', ',', 'see', 'your', 'health', 'care', 'provider', '.', 'Illnesses', 'of', 'the', 'nose', 'and', 'throat', 'caused', 'by', 'germs', 'are', 'called', 'upper', 'respiratory', 'tract', 'infections', '.', 'Products', '&', 'Services', 'Book', ':', 'Mayo', 'Clinic', 'Book', 'of', 'Home', 'Remedies', 'Symptoms', 'Most', 'often', ',', 'common', 'cold', 'symptoms', 'start', '1', 'to', '3', 'days', 'after', 'someone', 'is', 'exposed', 'to', 'a', 'cold', 'virus', '.', 'Symptoms', 'vary', '.', 'They', 'can', 'include', ':', 'Runny', 'or', 'stuffy', 'nose', '.', 'Sore', 'or', 'scratchy', 'throat', '.', 'Cough', '.', 'Sneezing', '.', 'Generally', 'feeling', 'unwell', '.', 'Slight', 'body', 'aches', 'or', 'a', 'mild', 'headache', '.', 'Low-grade', 'fever', '.', 'The', 'mucus', 'from', 'your', 'nose', 'may', 'start', 'out', 'clear', 'and', 'become', 'thicker', 'and', 'yellow', 'or', 'green', '.', 'This', 'change', 'is', 'normal', '.', 'Most', 'often', ',', 'it', 'does', \"n't\", 'mean', 'that', 'you', 'have', 'a', 'bacterial', 'illness', '.', 'When', 'to', 'see', 'a', 'doctor', 'For', 'adults', '.', 'Most', 'often', ',', 'you', 'do', \"n't\", 'need', 'medical', 'care', 'for', 'a', 'common', 'cold', '.', 'But', 'see', 'your', 'health', 'care', 'provider', 'if', 'you', 'have', ':', 'Symptoms', 'that', 'get', 'worse', 'or', 'do', 'not', 'get', 'better', '.', 'Fever', 'greater', 'than', '101.3', 'degrees', 'Fahrenheit', '(', '38.5', 'degrees', 'Celsius', ')', 'that', 'lasts', 'more', 'than', 'three', 'days', '.', 'Fever', 'returning', 'after', 'a', 'fever-free', 'period', '.', 'Shortness', 'of', 'breath', '.', 'Wheezing', '.', 'Intense', 'sore', 'throat', ',', 'headache', 'or', 'sinus', 'pain', '.', 'For', 'children', '.', 'Most', 'children', 'with', 'a', 'common', 'cold', 'do', \"n't\", 'need', 'to', 'see', 'a', 'health', 'care', 'provider', '.', 'Get', 'medical', 'care', 'right', 'away', 'if', 'your', 'child', 'has', 'any', 'of', 'the', 'following', ':', 'Fever', 'of', '100.4', 'degrees', 'Fahrenheit', '(', '38', 'degrees', 'Celsius', ')', 'in', 'newborns', 'up', 'to', '12', 'weeks', '.', 'Rising', 'fever', 'or', 'fever', 'lasting', 'more', 'than', 'two', 'days', 'in', 'a', 'child', 'of', 'any', 'age', '.', 'More-intense', 'symptoms', ',', 'such', 'as', 'headache', ',', 'throat', 'pain', 'or', 'cough', '.', 'Trouble', 'with', 'breathing', 'or', 'wheezing', '.', 'Ear', 'pain', '.', 'Fussiness', 'or', 'drowsiness', 'that', 'is', \"n't\", 'typical', '.', 'No', 'interest', 'in', 'eating', '.', 'Request', 'an', 'appointment', 'From', 'Mayo', 'Clinic', 'to', 'your', 'inbox', 'Sign', 'up', 'for', 'free', ',', 'and', 'stay', 'up', 'to', 'date', 'on', 'research', 'advancements', ',', 'health', 'tips', 'and', 'current', 'health', 'topics', ',', 'like', 'COVID-19', ',', 'plus', 'expertise', 'on', 'managing', 'health', '.', 'Click', 'here', 'for', 'an', 'email', 'preview', '.', 'Enter', 'your', 'email', 'EmailLearn', 'more', 'about', 'Mayo', 'Clinic', '’', 's', 'use', 'of', 'data', '.', 'Subscribe', '!', 'Causes', 'Many', 'viruses', 'can', 'cause', 'a', 'common', 'cold', '.', 'Rhinoviruses', 'are', 'the', 'most', 'common', 'cause', '.', 'A', 'cold', 'virus', 'enters', 'the', 'body', 'through', 'the', 'mouth', ',', 'eyes', 'or', 'nose', '.', 'The', 'virus', 'can', 'spread', 'by', ':', 'Droplets', 'in', 'the', 'air', 'when', 'someone', 'who', 'is', 'sick', 'coughs', ',', 'sneezes', 'or', 'talks', '.', 'Hand-to-hand', 'contact', 'with', 'someone', 'who', 'has', 'a', 'cold', '.', 'Sharing', 'objects', 'with', 'the', 'virus', 'on', 'them', ',', 'such', 'as', 'dishes', ',', 'towels', ',', 'toys', 'or', 'telephones', '.', 'Touching', 'your', 'eyes', ',', 'nose', 'or', 'mouth', 'after', 'contact', 'with', 'the', 'virus', '.', 'Risk', 'factors', 'These', 'factors', 'can', 'increase', 'the', 'chances', 'of', 'getting', 'a', 'cold', ':', 'Age', '.', 'Infants', 'and', 'young', 'children', 'have', 'a', 'greater', 'risk', 'of', 'colds', 'than', 'other', 'people', ',', 'especially', 'if', 'they', 'spend', 'time', 'in', 'child', 'care', 'settings', '.', 'Weakened', 'immune', 'system', '.', 'Having', 'a', 'long-term', 'illness', 'or', 'weakened', 'immune', 'system', 'increases', 'your', 'risk', '.', 'Time', 'of', 'year', '.', 'Both', 'children', 'and', 'adults', 'are', 'more', 'likely', 'to', 'get', 'colds', 'in', 'fall', 'and', 'winter', '.', 'Smoking', '.', 'Smoking', 'or', 'being', 'around', 'secondhand', 'smoke', 'increases', 'the', 'risk', 'of', 'catching', 'a', 'cold', '.', 'Exposure', '.', 'Being', 'in', 'crowds', ',', 'such', 'as', 'at', 'school', 'or', 'on', 'an', 'airplane', ',', 'increases', 'the', 'chance', 'of', 'getting', 'a', 'cold', '.', 'Complications', 'These', 'conditions', 'can', 'occur', 'along', 'with', 'your', 'cold', ':', 'Middle', 'ear', 'infection', '.', 'This', 'is', 'the', 'swelling', 'and', 'build-up', 'of', 'fluids', 'in', 'the', 'space', 'behind', 'the', 'eardrum', '.', 'It', 'may', 'be', 'caused', 'by', 'a', 'virus', 'or', 'bacteria', '.', 'Typical', 'signs', 'and', 'symptoms', 'include', 'earaches', 'or', 'the', 'return', 'of', 'a', 'fever', 'following', 'a', 'common', 'cold', '.', 'Asthma', '.', 'A', 'cold', 'can', 'trigger', 'wheezing', ',', 'even', 'in', 'people', 'who', 'do', \"n't\", 'have', 'asthma', '.', 'For', 'people', 'with', 'asthma', ',', 'a', 'cold', 'can', 'make', 'it', 'worse', '.', 'Sinusitis', '.', 'In', 'adults', 'or', 'children', ',', 'a', 'common', 'cold', 'that', 'lasts', 'a', 'while', 'can', 'lead', 'to', 'swelling', 'and', 'pain', 'in', 'the', 'sinuses', '.', 'These', 'are', 'air-filled', 'spaces', 'in', 'the', 'skull', 'above', 'the', 'eyes', 'and', 'around', 'the', 'nose', '.', 'A', 'virus', 'or', 'bacteria', 'may', 'cause', 'sinusitis', '.', 'Other', 'illnesses', '.', 'A', 'common', 'cold', 'can', 'lead', 'to', 'illnesses', 'of', 'the', 'lungs', ',', 'such', 'as', 'pneumonia', 'or', 'bronchitis', '.', 'People', 'with', 'asthma', 'or', 'weakened', 'immune', 'systems', 'have', 'an', 'increased', 'risk', 'of', 'these', 'conditions', '.', 'More', 'Information', 'Plugged', 'ears', ':', 'What', 'is', 'the', 'remedy', '?', 'Prevention', 'There', \"'s\", 'no', 'vaccine', 'for', 'the', 'common', 'cold', '.', 'You', 'can', 'take', 'these', 'steps', 'to', 'slow', 'the', 'spread', 'of', 'the', 'virus', 'and', 'prevent', 'illness', ':', 'Wash', 'your', 'hands', '.', 'Wash', 'your', 'hands', 'well', 'and', 'often', 'with', 'soap', 'and', 'water', 'for', 'at', 'least', '20', 'seconds', '.', 'If', 'soap', 'and', 'water', 'are', \"n't\", 'available', ',', 'use', 'an', 'alcohol-based', 'hand', 'sanitizer', 'with', 'at', 'least', '60', '%', 'alcohol', '.', 'Teach', 'your', 'children', 'the', 'importance', 'of', 'hand-washing', '.', 'Try', 'not', 'to', 'touch', 'your', 'eyes', ',', 'nose', 'or', 'mouth', 'with', 'unwashed', 'hands', '.', 'Clean', 'and', 'disinfect', '.', 'Clean', 'and', 'disinfect', 'surfaces', 'that', 'are', 'touched', 'often', '.', 'These', 'include', 'doorknobs', ',', 'light', 'switches', ',', 'electronics', ',', 'and', 'kitchen', 'and', 'bathroom', 'countertops', '.', 'This', 'is', 'especially', 'important', 'when', 'someone', 'in', 'your', 'family', 'has', 'a', 'cold', '.', 'Wash', 'children', \"'s\", 'toys', 'often', '.', 'Cover', 'your', 'cough', '.', 'Sneeze', 'and', 'cough', 'into', 'tissues', '.', 'Throw', 'away', 'used', 'tissues', 'right', 'away', ',', 'and', 'then', 'wash', 'your', 'hands', '.', 'If', 'you', 'do', \"n't\", 'have', 'a', 'tissue', ',', 'sneeze', 'or', 'cough', 'into', 'the', 'bend', 'of', 'your', 'elbow', ',', 'and', 'then', 'wash', 'your', 'hands', '.', 'Do', \"n't\", 'share', '.', 'Do', \"n't\", 'share', 'drinking', 'glasses', 'or', 'silverware', 'with', 'other', 'family', 'members', '.', 'Stay', 'away', 'from', 'people', 'with', 'colds', '.', 'Avoid', 'close', 'contact', 'with', 'anyone', 'who', 'has', 'a', 'cold', '.', 'Stay', 'out', 'of', 'crowds', 'when', 'possible', '.', 'Try', 'not', 'to', 'touch', 'your', 'eyes', ',', 'nose', 'and', 'mouth', 'when', 'you', \"'re\", 'in', 'crowds', '.', 'Review', 'your', 'child', 'care', 'center', \"'s\", 'policies', '.', 'Look', 'for', 'a', 'child', 'care', 'setting', 'with', 'good', 'hygiene', 'practices', 'and', 'clear', 'policies', 'about', 'keeping', 'sick', 'children', 'at', 'home', '.', 'Take', 'care', 'of', 'yourself', '.', 'Eat', 'well', ',', 'exercise', 'and', 'get', 'plenty', 'of', 'sleep', 'to', 'help', 'you', 'stay', 'healthy', '.', 'By', 'Mayo', 'Clinic', 'Staff', 'Request', 'an', 'appointment', 'Diagnosis', '&', 'treatment', 'May', '24', ',', '2023', 'Print', 'Show', 'references', 'Related', 'Cold', 'or', 'allergy', ':', 'Which', 'is', 'it', '?', 'Cold', 'remedies', 'Cold', 'symptoms', ':', 'Does', 'drinking', 'milk', 'increase', 'phlegm', '?', 'Show', 'more', 'related', 'content', 'News', 'from', 'Mayo', 'Clinic', 'Mayo', 'Clinic', 'Q', 'and', 'A', ':', 'Decongestants', 'can', 'sometimes', 'cause', 'more', 'harm', 'than', 'good', 'Mayo', 'Clinic', 'Q', 'and', 'A', ':', 'Myths', 'about', 'catching', 'a', 'cold', 'Products', '&', 'Services', 'Book', ':', 'Mayo', 'Clinic', 'Book', 'of', 'Home', 'Remedies', 'Advertisement', 'Mayo', 'Clinic', 'does', 'not', 'endorse', 'companies', 'or', 'products', '.', 'Advertising', 'revenue', 'supports', 'our', 'not-for-profit', 'mission', '.', 'Advertising', '&', 'Sponsorship', 'PolicyOpportunitiesAd', 'Choices', 'Mayo', 'Clinic', 'Press', 'Check', 'out', 'these', 'best-sellers', 'and', 'special', 'offers', 'on', 'books', 'and', 'newsletters', 'from', 'Mayo', 'Clinic', 'Press', '.', 'Mayo', 'Clinic', 'on', 'Incontinence', '-', 'Mayo', 'Clinic', 'PressMayo', 'Clinic', 'on', 'Incontinence', 'NEW', '–', 'Future', 'Care', '-', 'Mayo', 'Clinic', 'PressNEW', '–', 'Future', 'Care', 'Mayo', 'Clinic', 'on', 'Hearing', 'and', 'Balance', '-', 'Mayo', 'Clinic', 'PressMayo', 'Clinic', 'on', 'Hearing', 'and', 'Balance', 'FREE', 'Mayo', 'Clinic', 'Diet', 'Assessment', '-', 'Mayo', 'Clinic', 'PressFREE', 'Mayo', 'Clinic', 'Diet', 'Assessment', 'Mayo', 'Clinic', 'Health', 'Letter', '-', 'FREE', 'book', '-', 'Mayo', 'Clinic', 'PressMayo', 'Clinic', 'Health', 'Letter', '-', 'FREE', 'book', 'CON-20163999', 'Patient', 'Care', '&', 'Health', 'Information', 'Diseases', '&', 'Conditions', 'Common', 'cold', 'Your', 'gift', 'holds', 'great', 'power', '–', 'donate', 'today', '!', 'Make', 'your', 'tax-deductible', 'gift', 'and', 'be', 'a', 'part', 'of', 'the', 'cutting-edge', 'research', 'and', 'care', 'that', \"'s\", 'changing', 'medicine', '.', 'Donate', 'Find', 'a', 'doctor', 'Explore', 'careers', 'Sign', 'up', 'for', 'free', 'e-newsletters', 'About', 'Mayo', 'Clinic', 'About', 'this', 'Site', 'Contact', 'Us', 'Locations', 'Health', 'Information', 'Policy', 'Media', 'Requests', 'News', 'Network', 'Medical', 'Professionals', 'AskMayoExpert', 'Clinical', 'Trials', 'Mayo', 'Clinic', 'Alumni', 'Association', 'Refer', 'a', 'Patient', 'Businesses', 'Executive', 'Health', 'Program', 'International', 'Business', 'Collaborations', 'Facilities', '&', 'Real', 'Estate', 'Supplier', 'Information', 'Students', 'Admissions', 'Requirements', 'Degree', 'Programs', 'Student', '&', 'Faculty', 'Portal', 'Researchers', 'Research', 'Faculty', 'Laboratories', 'International', 'Patients', 'Appointments', 'Financial', 'Services', 'International', 'Locations', '&', 'Offices', 'Charitable', 'Care', '&', 'Financial', 'Assistance', 'Community', 'Health', 'Needs', 'Assessment', 'Financial', 'Assistance', 'Documents', '–', 'Arizona', 'Financial', 'Assistance', 'Documents', '–', 'Florida', 'Financial', 'Assistance', 'Documents', '–', 'Minnesota', 'Follow', 'Mayo', 'Clinic', 'Twitter', 'Youtube', 'Facebook', 'Linkedin', 'Instagram', 'Get', 'the', 'Mayo', 'Clinic', 'app', 'Android', 'App', 'on', 'Google', 'Play', 'Apple', 'Download', 'on', 'the', 'App', 'Store', 'Terms', '&', 'Conditions', 'Privacy', 'Policy', 'Notice', 'of', 'Privacy', 'Practices', 'Notice', 'of', 'Nondiscrimination', 'Advertising', '&', 'Sponsorship', 'Policy', 'Site', 'Map', '©', '1998-2023', 'Mayo', 'Foundation', 'for', 'Medical', 'Education', 'and', 'Research', '(', 'MFMER', ')', '.', 'All', 'rights', 'reserved', '.', 'Language', ':', 'English']\n"
          ]
        }
      ]
    },
    {
      "cell_type": "code",
      "source": [
        "print(sentence_tokens[:5])"
      ],
      "metadata": {
        "colab": {
          "base_uri": "https://localhost:8080/"
        },
        "id": "l6xdIez6k-uo",
        "outputId": "09bbe4a6-5054-4004-a622-6fb276ec642b"
      },
      "execution_count": 38,
      "outputs": [
        {
          "output_type": "stream",
          "name": "stdout",
          "text": [
            "['Skip to content\\nMayo Clinic Home Page\\n\\nCare at\\nMayo Clinic\\n\\nHealth\\nLibrary\\n\\nFor Medical\\nProfessionals\\n\\nResearch & Education\\nat Mayo Clinic\\nRequest appointment\\nDonate\\nLog in\\n\\nSearch\\nDiseases & Conditions\\nFever\\nRequest an Appointment\\nOverview\\nA fever is a temporary rise in body temperature.', \"It's one part of an overall response from the body's immune system.\", 'A fever is usually caused by an infection.', 'For most children and adults, a fever may be uncomfortable.', \"But it usually isn't a cause for concern.\"]\n"
          ]
        }
      ]
    },
    {
      "cell_type": "code",
      "source": [
        "import string\n",
        "lemmer = nltk.stem.WordNetLemmatizer()\n",
        "def LemTokens(tokens):\n",
        "    return [lemmer.lemmatizer(token) for token in tokens]\n",
        "remove_punc_dict = dict((ord(punct),None) for punct in string.punctuation)\n",
        "def LemNormalizer(text):\n",
        "    return LemTokens(nltk.word_tokenize(text.lower().tranlate(remove_punc_dict)))\n"
      ],
      "metadata": {
        "id": "c02wRq6ulMEN"
      },
      "execution_count": 39,
      "outputs": []
    },
    {
      "cell_type": "markdown",
      "source": [
        "### Define Greeting functions"
      ],
      "metadata": {
        "id": "1WaFD8b1Zi2o"
      }
    },
    {
      "cell_type": "code",
      "source": [
        "greet_inputs = (\"hello\",\"hi\",\"whatsup\",\"how are you?\")\n",
        "greet_responses = (\"hi\",\"hey\",\"hey There!\",\"There there!!\")\n",
        "def greet(sentence):\n",
        "    for word in sentence.split():\n",
        "        if word.lower() in greet_inputs:\n",
        "            return random.choice(greet_responses)"
      ],
      "metadata": {
        "id": "4qYufLfTZfjz"
      },
      "execution_count": 40,
      "outputs": []
    },
    {
      "cell_type": "markdown",
      "source": [
        "### Response Generation by the Bot"
      ],
      "metadata": {
        "id": "YuB68kEaaibR"
      }
    },
    {
      "cell_type": "code",
      "source": [
        "from sklearn.feature_extraction.text import TfidfVectorizer\n",
        "from sklearn.metrics.pairwise import cosine_similarity"
      ],
      "metadata": {
        "id": "yO_WA24aaVBq"
      },
      "execution_count": 41,
      "outputs": []
    },
    {
      "cell_type": "code",
      "source": [
        "def response(user_response):\n",
        "    robot_response = ''\n",
        "    TfidfVec = TfidfVectorizer(tokenizer=None, stop_words=\"english\")\n",
        "    tfidf = TfidfVec.fit_transform(sentence_tokens)\n",
        "    vals = cosine_similarity(tfidf[-1],tfidf)\n",
        "    idx = vals.argsort()[0][-2]\n",
        "    flat = vals.flatten()\n",
        "    flat.sort()\n",
        "    req_tfidf = flat[-2]\n",
        "    if (req_tfidf == 0):\n",
        "        robot_response = robot_response + \"i am sorry. Unable to understand you!\"\n",
        "        return robot_response\n",
        "    else:\n",
        "      robot_response = robot_response + sentence_tokens[idx]\n",
        "      return robot_response"
      ],
      "metadata": {
        "id": "j-SSZ8jIbQXK"
      },
      "execution_count": 48,
      "outputs": []
    },
    {
      "cell_type": "code",
      "source": [
        "from nltk.stem import WordNetLemmatizer\n",
        "from nltk.tokenize import word_tokenize"
      ],
      "metadata": {
        "id": "NWmgYqighlDN"
      },
      "execution_count": null,
      "outputs": []
    },
    {
      "cell_type": "code",
      "source": [
        "flag = True\n",
        "print(\"Hello! I am the Learning Bot. Start typing your text after greeting to talk to me. for ending convo type bye!\")\n",
        "while(flag == True):\n",
        "    user_respnse = input()\n",
        "    user_response = user_respnse.lower()\n",
        "    if (user_respnse != 'bye'):\n",
        "        if (user_response == \"thank you\" or user_response == \"thanks\"):\n",
        "          flag = False\n",
        "          print(\"Bot \" + greet(user_response))\n",
        "        else:\n",
        "            sentence_tokens.append(user_response)\n",
        "            word_tokens = word_tokens + nltk.word_tokenize(user_response)\n",
        "            final_words = list(set(word_tokens))\n",
        "            print(\"Bot: \", end = '')\n",
        "            print(response(user_respnse))\n",
        "            sentence_tokens.remove(user_response)\n",
        "    else:\n",
        "      flag = False\n",
        "      print(\"Bot: Goodbye!\")"
      ],
      "metadata": {
        "colab": {
          "base_uri": "https://localhost:8080/"
        },
        "id": "dOQCYRhrdVgV",
        "outputId": "cb9ba752-eea9-4547-b9b8-78aff91bfb39"
      },
      "execution_count": 49,
      "outputs": [
        {
          "output_type": "stream",
          "name": "stdout",
          "text": [
            "Hello! I am the Learning Bot. Start typing your text after greeting to talk to me. for ending convo type bye!\n",
            "hi\n",
            "Bot: hi\n",
            "what is fever\n",
            "Bot: Fever returning after a fever-free period.\n",
            "fever diseses\n",
            "Bot: Fever returning after a fever-free period.\n",
            "fever Symptoms\n",
            "Bot: Symptoms vary.\n",
            "When to see a doctorWhen to see a doctor\n",
            "Bot: When to see a doctor\n",
            "For adults.\n",
            "When to see a doctor\n",
            "Bot: When to see a doctor\n",
            "For adults.\n",
            "yes\n",
            "Bot: i am sorry. Unable to understand you!\n",
            "Causes\n",
            "Bot: Causes\n",
            "Many viruses can cause a common cold.\n",
            "what is common cold\n",
            "Bot: Prevention\n",
            "There's no vaccine for the common cold.\n",
            "Risk factors These factors can increase the chances of getting a cold:\n",
            "Bot: Risk factors\n",
            "These factors can increase the chances of getting a cold:\n",
            "\n",
            "Age.\n",
            "bye\n",
            "Bot: Goodbye!\n"
          ]
        }
      ]
    },
    {
      "cell_type": "code",
      "source": [],
      "metadata": {
        "id": "xOZh58-gjh-I"
      },
      "execution_count": null,
      "outputs": []
    }
  ]
}