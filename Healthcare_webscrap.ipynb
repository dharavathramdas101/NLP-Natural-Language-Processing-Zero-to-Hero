{
  "nbformat": 4,
  "nbformat_minor": 0,
  "metadata": {
    "colab": {
      "provenance": [],
      "authorship_tag": "ABX9TyMWzfRLcEkG1Bk3FALuo0uL",
      "include_colab_link": true
    },
    "kernelspec": {
      "name": "python3",
      "display_name": "Python 3"
    },
    "language_info": {
      "name": "python"
    }
  },
  "cells": [
    {
      "cell_type": "markdown",
      "metadata": {
        "id": "view-in-github",
        "colab_type": "text"
      },
      "source": [
        "<a href=\"https://colab.research.google.com/github/dharavathramdas101/NLP-Natural-Language-Processing-Zero-to-Hero/blob/main/Healthcare_webscrap.ipynb\" target=\"_parent\"><img src=\"https://colab.research.google.com/assets/colab-badge.svg\" alt=\"Open In Colab\"/></a>"
      ]
    },
    {
      "cell_type": "code",
      "source": [
        "pip install nltk"
      ],
      "metadata": {
        "colab": {
          "base_uri": "https://localhost:8080/"
        },
        "id": "wqV1rj8fYoko",
        "outputId": "124c84c5-7bdc-4c16-9a43-740265f2b3e5"
      },
      "execution_count": 9,
      "outputs": [
        {
          "output_type": "stream",
          "name": "stdout",
          "text": [
            "Looking in indexes: https://pypi.org/simple, https://us-python.pkg.dev/colab-wheels/public/simple/\n",
            "Requirement already satisfied: nltk in /usr/local/lib/python3.10/dist-packages (3.8.1)\n",
            "Requirement already satisfied: click in /usr/local/lib/python3.10/dist-packages (from nltk) (8.1.3)\n",
            "Requirement already satisfied: joblib in /usr/local/lib/python3.10/dist-packages (from nltk) (1.2.0)\n",
            "Requirement already satisfied: regex>=2021.8.3 in /usr/local/lib/python3.10/dist-packages (from nltk) (2022.10.31)\n",
            "Requirement already satisfied: tqdm in /usr/local/lib/python3.10/dist-packages (from nltk) (4.65.0)\n"
          ]
        }
      ]
    },
    {
      "cell_type": "code",
      "source": [
        "pip install newspaper3k"
      ],
      "metadata": {
        "colab": {
          "base_uri": "https://localhost:8080/"
        },
        "id": "WhbACallYobW",
        "outputId": "55eb6c81-1838-4c0f-e14a-e1c06eb049a8"
      },
      "execution_count": 10,
      "outputs": [
        {
          "output_type": "stream",
          "name": "stdout",
          "text": [
            "Looking in indexes: https://pypi.org/simple, https://us-python.pkg.dev/colab-wheels/public/simple/\n",
            "Collecting newspaper3k\n",
            "  Downloading newspaper3k-0.2.8-py3-none-any.whl (211 kB)\n",
            "\u001b[2K     \u001b[90m━━━━━━━━━━━━━━━━━━━━━━━━━━━━━━━━━━━━━━━\u001b[0m \u001b[32m211.1/211.1 kB\u001b[0m \u001b[31m8.4 MB/s\u001b[0m eta \u001b[36m0:00:00\u001b[0m\n",
            "\u001b[?25hRequirement already satisfied: beautifulsoup4>=4.4.1 in /usr/local/lib/python3.10/dist-packages (from newspaper3k) (4.11.2)\n",
            "Requirement already satisfied: Pillow>=3.3.0 in /usr/local/lib/python3.10/dist-packages (from newspaper3k) (8.4.0)\n",
            "Requirement already satisfied: PyYAML>=3.11 in /usr/local/lib/python3.10/dist-packages (from newspaper3k) (6.0)\n",
            "Collecting cssselect>=0.9.2 (from newspaper3k)\n",
            "  Downloading cssselect-1.2.0-py2.py3-none-any.whl (18 kB)\n",
            "Requirement already satisfied: lxml>=3.6.0 in /usr/local/lib/python3.10/dist-packages (from newspaper3k) (4.9.2)\n",
            "Requirement already satisfied: nltk>=3.2.1 in /usr/local/lib/python3.10/dist-packages (from newspaper3k) (3.8.1)\n",
            "Requirement already satisfied: requests>=2.10.0 in /usr/local/lib/python3.10/dist-packages (from newspaper3k) (2.27.1)\n",
            "Collecting feedparser>=5.2.1 (from newspaper3k)\n",
            "  Downloading feedparser-6.0.10-py3-none-any.whl (81 kB)\n",
            "\u001b[2K     \u001b[90m━━━━━━━━━━━━━━━━━━━━━━━━━━━━━━━━━━━━━━━━\u001b[0m \u001b[32m81.1/81.1 kB\u001b[0m \u001b[31m10.9 MB/s\u001b[0m eta \u001b[36m0:00:00\u001b[0m\n",
            "\u001b[?25hCollecting tldextract>=2.0.1 (from newspaper3k)\n",
            "  Downloading tldextract-3.4.4-py3-none-any.whl (93 kB)\n",
            "\u001b[2K     \u001b[90m━━━━━━━━━━━━━━━━━━━━━━━━━━━━━━━━━━━━━━━━\u001b[0m \u001b[32m93.3/93.3 kB\u001b[0m \u001b[31m9.1 MB/s\u001b[0m eta \u001b[36m0:00:00\u001b[0m\n",
            "\u001b[?25hCollecting feedfinder2>=0.0.4 (from newspaper3k)\n",
            "  Downloading feedfinder2-0.0.4.tar.gz (3.3 kB)\n",
            "  Preparing metadata (setup.py) ... \u001b[?25l\u001b[?25hdone\n",
            "Collecting jieba3k>=0.35.1 (from newspaper3k)\n",
            "  Downloading jieba3k-0.35.1.zip (7.4 MB)\n",
            "\u001b[2K     \u001b[90m━━━━━━━━━━━━━━━━━━━━━━━━━━━━━━━━━━━━━━━━\u001b[0m \u001b[32m7.4/7.4 MB\u001b[0m \u001b[31m85.6 MB/s\u001b[0m eta \u001b[36m0:00:00\u001b[0m\n",
            "\u001b[?25h  Preparing metadata (setup.py) ... \u001b[?25l\u001b[?25hdone\n",
            "Requirement already satisfied: python-dateutil>=2.5.3 in /usr/local/lib/python3.10/dist-packages (from newspaper3k) (2.8.2)\n",
            "Collecting tinysegmenter==0.3 (from newspaper3k)\n",
            "  Downloading tinysegmenter-0.3.tar.gz (16 kB)\n",
            "  Preparing metadata (setup.py) ... \u001b[?25l\u001b[?25hdone\n",
            "Requirement already satisfied: soupsieve>1.2 in /usr/local/lib/python3.10/dist-packages (from beautifulsoup4>=4.4.1->newspaper3k) (2.4.1)\n",
            "Requirement already satisfied: six in /usr/local/lib/python3.10/dist-packages (from feedfinder2>=0.0.4->newspaper3k) (1.16.0)\n",
            "Collecting sgmllib3k (from feedparser>=5.2.1->newspaper3k)\n",
            "  Downloading sgmllib3k-1.0.0.tar.gz (5.8 kB)\n",
            "  Preparing metadata (setup.py) ... \u001b[?25l\u001b[?25hdone\n",
            "Requirement already satisfied: click in /usr/local/lib/python3.10/dist-packages (from nltk>=3.2.1->newspaper3k) (8.1.3)\n",
            "Requirement already satisfied: joblib in /usr/local/lib/python3.10/dist-packages (from nltk>=3.2.1->newspaper3k) (1.2.0)\n",
            "Requirement already satisfied: regex>=2021.8.3 in /usr/local/lib/python3.10/dist-packages (from nltk>=3.2.1->newspaper3k) (2022.10.31)\n",
            "Requirement already satisfied: tqdm in /usr/local/lib/python3.10/dist-packages (from nltk>=3.2.1->newspaper3k) (4.65.0)\n",
            "Requirement already satisfied: urllib3<1.27,>=1.21.1 in /usr/local/lib/python3.10/dist-packages (from requests>=2.10.0->newspaper3k) (1.26.15)\n",
            "Requirement already satisfied: certifi>=2017.4.17 in /usr/local/lib/python3.10/dist-packages (from requests>=2.10.0->newspaper3k) (2022.12.7)\n",
            "Requirement already satisfied: charset-normalizer~=2.0.0 in /usr/local/lib/python3.10/dist-packages (from requests>=2.10.0->newspaper3k) (2.0.12)\n",
            "Requirement already satisfied: idna<4,>=2.5 in /usr/local/lib/python3.10/dist-packages (from requests>=2.10.0->newspaper3k) (3.4)\n",
            "Collecting requests-file>=1.4 (from tldextract>=2.0.1->newspaper3k)\n",
            "  Downloading requests_file-1.5.1-py2.py3-none-any.whl (3.7 kB)\n",
            "Requirement already satisfied: filelock>=3.0.8 in /usr/local/lib/python3.10/dist-packages (from tldextract>=2.0.1->newspaper3k) (3.12.0)\n",
            "Building wheels for collected packages: tinysegmenter, feedfinder2, jieba3k, sgmllib3k\n",
            "  Building wheel for tinysegmenter (setup.py) ... \u001b[?25l\u001b[?25hdone\n",
            "  Created wheel for tinysegmenter: filename=tinysegmenter-0.3-py3-none-any.whl size=13541 sha256=a5b84a8671cffb6d41d2add62e983a3d8726c84624a4d3f554b938b57799d709\n",
            "  Stored in directory: /root/.cache/pip/wheels/c8/d6/6c/384f58df48c00b9a31d638005143b5b3ac62c3d25fb1447f23\n",
            "  Building wheel for feedfinder2 (setup.py) ... \u001b[?25l\u001b[?25hdone\n",
            "  Created wheel for feedfinder2: filename=feedfinder2-0.0.4-py3-none-any.whl size=3341 sha256=048ec97655d88be20718aa481f5f0f73902282be812fef0c42ebed51411dfa55\n",
            "  Stored in directory: /root/.cache/pip/wheels/97/02/e7/a1ff1760e12bdbaab0ac824fae5c1bc933e41c4ccd6a8f8edb\n",
            "  Building wheel for jieba3k (setup.py) ... \u001b[?25l\u001b[?25hdone\n",
            "  Created wheel for jieba3k: filename=jieba3k-0.35.1-py3-none-any.whl size=7398382 sha256=f70d860314681167ddd50f606e99c951a840705d7fc5e904ef3b797821db5b1d\n",
            "  Stored in directory: /root/.cache/pip/wheels/7a/c4/0c/12a9a314ecac499456c4c3b2fcc2f635a3b45a39dfbd240299\n",
            "  Building wheel for sgmllib3k (setup.py) ... \u001b[?25l\u001b[?25hdone\n",
            "  Created wheel for sgmllib3k: filename=sgmllib3k-1.0.0-py3-none-any.whl size=6046 sha256=0a41e38a6433cbe650b7f1ec1b5fcd92433b05fc1869cf2e2553d444e0ec304e\n",
            "  Stored in directory: /root/.cache/pip/wheels/f0/69/93/a47e9d621be168e9e33c7ce60524393c0b92ae83cf6c6e89c5\n",
            "Successfully built tinysegmenter feedfinder2 jieba3k sgmllib3k\n",
            "Installing collected packages: tinysegmenter, sgmllib3k, jieba3k, feedparser, cssselect, requests-file, feedfinder2, tldextract, newspaper3k\n",
            "Successfully installed cssselect-1.2.0 feedfinder2-0.0.4 feedparser-6.0.10 jieba3k-0.35.1 newspaper3k-0.2.8 requests-file-1.5.1 sgmllib3k-1.0.0 tinysegmenter-0.3 tldextract-3.4.4\n"
          ]
        }
      ]
    },
    {
      "cell_type": "code",
      "execution_count": 11,
      "metadata": {
        "id": "6dFI4iZCytfM"
      },
      "outputs": [],
      "source": [
        "import requests\n",
        "from bs4 import BeautifulSoup\n",
        "import smtplib\n",
        "import time\n",
        "import datetime\n",
        "\n",
        "from newspaper import Article\n",
        "import random\n",
        "import string\n",
        "import nltk\n",
        "from sklearn.feature_extraction.text import CountVectorizer\n",
        "from sklearn.metrics.pairwise import cosine_similarity\n",
        "import numpy as np\n",
        "import warnings\n",
        "\n",
        "warnings.filterwarnings('ignore')"
      ]
    },
    {
      "cell_type": "code",
      "source": [
        "# Download the punkt\n",
        "nltk.download('punkt',quiet=True)"
      ],
      "metadata": {
        "colab": {
          "base_uri": "https://localhost:8080/"
        },
        "id": "TlbO80uZZgDA",
        "outputId": "6ab091d5-8873-488b-e155-a2e031e8eb9f"
      },
      "execution_count": 12,
      "outputs": [
        {
          "output_type": "execute_result",
          "data": {
            "text/plain": [
              "True"
            ]
          },
          "metadata": {},
          "execution_count": 12
        }
      ]
    },
    {
      "cell_type": "code",
      "source": [],
      "metadata": {
        "id": "sk-1IhuHZ6AY"
      },
      "execution_count": null,
      "outputs": []
    },
    {
      "cell_type": "code",
      "source": [
        "# Connect to website"
      ],
      "metadata": {
        "id": "fWXHR7oN5KH2"
      },
      "execution_count": 5,
      "outputs": []
    },
    {
      "cell_type": "code",
      "source": [
        "article= Article(\"https://www.mayoclinic.org/diseases-conditions/fever/symptoms-causes/syc-20352759#:~:text=Fever%20or%20elevated%20body%20temperature,lining%20of%20your%20joints%20(synovium)\")"
      ],
      "metadata": {
        "id": "0a-de07CzFHh"
      },
      "execution_count": 13,
      "outputs": []
    },
    {
      "cell_type": "code",
      "source": [
        "article.download()\n",
        "article.parse()\n",
        "article.nlp()\n",
        "corpus=article.text"
      ],
      "metadata": {
        "id": "Hvehwjm3aHq4"
      },
      "execution_count": 14,
      "outputs": []
    },
    {
      "cell_type": "code",
      "source": [
        "print(type(corpus))"
      ],
      "metadata": {
        "colab": {
          "base_uri": "https://localhost:8080/"
        },
        "id": "X8rDuByEkp77",
        "outputId": "0c41e513-2310-4183-8c72-85a1436c474a"
      },
      "execution_count": 32,
      "outputs": [
        {
          "output_type": "stream",
          "name": "stdout",
          "text": [
            "<class 'str'>\n"
          ]
        }
      ]
    },
    {
      "cell_type": "code",
      "source": [
        "print(corpus)\n"
      ],
      "metadata": {
        "colab": {
          "base_uri": "https://localhost:8080/"
        },
        "id": "Hga_FoPdaHim",
        "outputId": "45da2c28-2edf-41fd-c7df-cf40123b63e7"
      },
      "execution_count": 16,
      "outputs": [
        {
          "output_type": "stream",
          "name": "stdout",
          "text": [
            "Overview\n",
            "\n",
            "A fever is a temporary rise in body temperature. It's one part of an overall response from the body's immune system. A fever is usually caused by an infection.\n",
            "\n",
            "For most children and adults, a fever may be uncomfortable. But it usually isn't a cause for concern. For infants, however, even a low fever may mean there's a serious infection.\n",
            "\n",
            "Fevers generally go away within a few days. A number of over-the-counter medications lower a fever. But you don't necessarily need to treat a fever if it's not causing discomfort.\n",
            "\n",
            "Products & Services Book: Mayo Clinic Book of Home Remedies\n",
            "\n",
            "Symptoms\n",
            "\n",
            "Body temperatures vary slightly from person to person and at different times of day. The average temperature has traditionally been defined as 98.6 F (37 C). A temperature taken using a mouth thermometer (oral temperature) that's 100 F (37.8 C) or higher is generally considered to be a fever.\n",
            "\n",
            "Depending on what's causing a fever, other fever signs and symptoms may include:\n",
            "\n",
            "Sweating\n",
            "\n",
            "Chills and shivering\n",
            "\n",
            "Headache\n",
            "\n",
            "Muscle aches\n",
            "\n",
            "Loss of appetite\n",
            "\n",
            "Irritability\n",
            "\n",
            "Dehydration\n",
            "\n",
            "General weakness\n",
            "\n",
            "Taking a temperature\n",
            "\n",
            "To take a temperature, you can choose from several types of thermometers, including oral, rectal, ear (tympanic) and forehead (temporal artery) thermometers.\n",
            "\n",
            "Oral and rectal thermometers generally provide the most accurate measurement of core body temperature. Ear or forehead thermometers, although convenient, provide less accurate temperature measurements.\n",
            "\n",
            "In infants, a rectal temperature, if doable, is somewhat more accurate. When reporting a temperature to your health care provider, give both the reading and the type of thermometer used.\n",
            "\n",
            "When to see a doctor\n",
            "\n",
            "Fevers by themselves may not be a cause for alarm — or a reason to call a doctor. Yet there are some circumstances when you should seek medical advice for your baby, your child or yourself.\n",
            "\n",
            "Infants and toddlers\n",
            "\n",
            "A fever is a particular cause for concern in infants and toddlers. Call your baby's health care provider if your child is:\n",
            "\n",
            "Younger than 3 months old and has a rectal temperature of 100.4 F (38 C) or higher.\n",
            "\n",
            "and has a rectal temperature of 100.4 F (38 C) or higher. Between 3 and 6 months old and has a rectal temperature higher than 102 F (38.9 C) or has a lower temperature but seems unusually irritable, sluggish or uncomfortable.\n",
            "\n",
            "and has a rectal temperature higher than 102 F (38.9 C) or has a lower temperature but seems unusually irritable, sluggish or uncomfortable. Between 7 and 24 months old and has a rectal temperature higher than 102 F (38.9 C) that lasts longer than one day but shows no other symptoms. If your child also has other signs and symptoms, such as a runny nose, cough or diarrhea, you can call sooner.\n",
            "\n",
            "Children\n",
            "\n",
            "There's probably no cause for alarm if your child has a fever but is responsive. This means your child makes eye contact with you and responds to your facial expressions and to your voice. Your child may also be drinking fluids and playing.\n",
            "\n",
            "Call your child's health care provider if your child:\n",
            "\n",
            "Is listless, confused or has poor eye contact with you.\n",
            "\n",
            "with you. Is irritable, vomits repeatedly, has a severe headache, sore throat, stomachache or other symptoms causing a lot of discomfort.\n",
            "\n",
            "has a severe headache, sore throat, stomachache or other symptoms causing a lot of discomfort. Has a fever after being left in a hot car. Seek medical care immediately.\n",
            "\n",
            "Seek medical care immediately. Has a fever that lasts longer than three days.\n",
            "\n",
            "than three days. Has a seizure associated with the fever. Call 911 if the seizure lasts more than five minutes or your child doesn't recover quickly.\n",
            "\n",
            "Ask your child's health care provider for guidance in special circumstances, such as a child with immune system problems or with a preexisting illness.\n",
            "\n",
            "Adults\n",
            "\n",
            "Call your health care provider if your temperature is 103 F (39.4 C) or higher. Seek immediate medical attention if any of these signs or symptoms accompanies a fever:\n",
            "\n",
            "Severe headache\n",
            "\n",
            "Rash\n",
            "\n",
            "Unusual sensitivity to bright light\n",
            "\n",
            "Stiff neck and pain when you bend your head forward\n",
            "\n",
            "Mental confusion, strange behavior or altered speech\n",
            "\n",
            "Persistent vomiting\n",
            "\n",
            "Difficulty breathing or chest pain\n",
            "\n",
            "Abdominal pain\n",
            "\n",
            "Pain when urinating\n",
            "\n",
            "Convulsions or seizures\n",
            "\n",
            "There is a problem with information submitted for this request. Review/update the information highlighted below and resubmit the form. From Mayo Clinic to your inbox Sign up for free, and stay up to date on research advancements, health tips and current health topics, like COVID-19, plus expertise on managing health. Click here for an email preview. Email ErrorEmail field is required ErrorInclude a valid email address Learn more about Mayo Clinic’s use of data. To provide you with the most relevant and helpful information, and understand which information is beneficial, we may combine your email and website usage information with other information we have about you. If you are a Mayo Clinic patient, this could include protected health information. If we combine this information with your protected health information, we will treat all of that information as protected health information and will only use or disclose that information as set forth in our notice of privacy practices. You may opt-out of email communications at any time by clicking on the unsubscribe link in the e-mail. Subscribe! Thank you for subscribing! You'll soon start receiving the latest Mayo Clinic health information you requested in your inbox. Sorry something went wrong with your subscription Please, try again in a couple of minutes Retry\n",
            "\n",
            "Causes\n",
            "\n",
            "Typical body temperature is a balance of heat production and heat loss. An area in the brain called the hypothalamus (hi-poe-THAL-uh-muhs) — also known as your body's \"thermostat\" — monitors this balance. Even when you're healthy, your body temperature varies slightly throughout the day. It can be lower in the morning and higher in the late afternoon and evening.\n",
            "\n",
            "When your immune system responds to disease, the hypothalamus can set your body temperature higher. This prompts complex processes that produce more heat and restrict heat loss. The shivering you might experience is one way the body produces heat. When you wrap up in a blanket because you feel chilled, you are helping your body retain heat.\n",
            "\n",
            "Fevers below 104 F (40 C) associated with common viral infections, such as the flu, may help the immune system fight disease and are generally not harmful.\n",
            "\n",
            "Fever or elevated body temperature might be caused by:\n",
            "\n",
            "A viral infection\n",
            "\n",
            "A bacterial infection\n",
            "\n",
            "Heat exhaustion\n",
            "\n",
            "Certain inflammatory conditions such as rheumatoid arthritis — inflammation of the lining of your joints (synovium)\n",
            "\n",
            "A cancerous (malignant) tumor\n",
            "\n",
            "Some medications, such as antibiotics and drugs used to treat high blood pressure or seizures\n",
            "\n",
            "Some immunizations, such as the diphtheria, tetanus and acellular pertussis (DTaP), pneumococcal or COVID vaccine\n",
            "\n",
            "Complications\n",
            "\n",
            "Children between the ages of 6 months and 5 years are at increased risk of a seizure that occurs during a fever (febrile seizure). About a third of the children who have one febrile seizure will have another one, most commonly within the next 12 months.\n",
            "\n",
            "A febrile seizure may involve loss of consciousness, shaking of limbs on both sides of the body, eyes rolling back or body stiffness. Although alarming for parents, the vast majority of febrile seizures cause no lasting effects.\n",
            "\n",
            "If a seizure occurs:\n",
            "\n",
            "Lay your child on the side or stomach on the floor or ground\n",
            "\n",
            "Remove any sharp objects that are near your child\n",
            "\n",
            "Loosen tight clothing\n",
            "\n",
            "Hold your child to prevent injury\n",
            "\n",
            "Don't place anything in your child's mouth or try to stop the seizure\n",
            "\n",
            "Call 911 or your local emergency number if a seizure lasts more than five minutes or your child doesn't appear to recover well after the seizure\n",
            "\n",
            "Get emergency room or urgent care services if it's your child's first febrile seizure.\n",
            "\n",
            "If your child doesn't need emergency care, see your child's health care provider as soon as possible for further evaluation.\n",
            "\n",
            "Prevention\n",
            "\n",
            "You may be able to prevent fevers by reducing exposure to infectious diseases. Here are some tips that can help:\n"
          ]
        }
      ]
    },
    {
      "cell_type": "code",
      "source": [
        "# Tokenization\n",
        "\n",
        "text = corpus\n",
        "sentence_list = nltk.sent_tokenize(text)"
      ],
      "metadata": {
        "id": "zdfshy2uawe4"
      },
      "execution_count": 30,
      "outputs": []
    },
    {
      "cell_type": "code",
      "source": [
        "# list of sentences\n",
        "print(sentence_list)"
      ],
      "metadata": {
        "colab": {
          "base_uri": "https://localhost:8080/"
        },
        "id": "NE8GUKbCawYJ",
        "outputId": "ae5299ac-9459-421b-a725-5f13885801c7"
      },
      "execution_count": 31,
      "outputs": [
        {
          "output_type": "stream",
          "name": "stdout",
          "text": [
            "['Overview\\n\\nA fever is a temporary rise in body temperature.', \"It's one part of an overall response from the body's immune system.\", 'A fever is usually caused by an infection.', 'For most children and adults, a fever may be uncomfortable.', \"But it usually isn't a cause for concern.\", \"For infants, however, even a low fever may mean there's a serious infection.\", 'Fevers generally go away within a few days.', 'A number of over-the-counter medications lower a fever.', \"But you don't necessarily need to treat a fever if it's not causing discomfort.\", 'Products & Services Book: Mayo Clinic Book of Home Remedies\\n\\nSymptoms\\n\\nBody temperatures vary slightly from person to person and at different times of day.', 'The average temperature has traditionally been defined as 98.6 F (37 C).', \"A temperature taken using a mouth thermometer (oral temperature) that's 100 F (37.8 C) or higher is generally considered to be a fever.\", \"Depending on what's causing a fever, other fever signs and symptoms may include:\\n\\nSweating\\n\\nChills and shivering\\n\\nHeadache\\n\\nMuscle aches\\n\\nLoss of appetite\\n\\nIrritability\\n\\nDehydration\\n\\nGeneral weakness\\n\\nTaking a temperature\\n\\nTo take a temperature, you can choose from several types of thermometers, including oral, rectal, ear (tympanic) and forehead (temporal artery) thermometers.\", 'Oral and rectal thermometers generally provide the most accurate measurement of core body temperature.', 'Ear or forehead thermometers, although convenient, provide less accurate temperature measurements.', 'In infants, a rectal temperature, if doable, is somewhat more accurate.', 'When reporting a temperature to your health care provider, give both the reading and the type of thermometer used.', 'When to see a doctor\\n\\nFevers by themselves may not be a cause for alarm — or a reason to call a doctor.', 'Yet there are some circumstances when you should seek medical advice for your baby, your child or yourself.', 'Infants and toddlers\\n\\nA fever is a particular cause for concern in infants and toddlers.', \"Call your baby's health care provider if your child is:\\n\\nYounger than 3 months old and has a rectal temperature of 100.4 F (38 C) or higher.\", 'and has a rectal temperature of 100.4 F (38 C) or higher.', 'Between 3 and 6 months old and has a rectal temperature higher than 102 F (38.9 C) or has a lower temperature but seems unusually irritable, sluggish or uncomfortable.', 'and has a rectal temperature higher than 102 F (38.9 C) or has a lower temperature but seems unusually irritable, sluggish or uncomfortable.', 'Between 7 and 24 months old and has a rectal temperature higher than 102 F (38.9 C) that lasts longer than one day but shows no other symptoms.', 'If your child also has other signs and symptoms, such as a runny nose, cough or diarrhea, you can call sooner.', \"Children\\n\\nThere's probably no cause for alarm if your child has a fever but is responsive.\", 'This means your child makes eye contact with you and responds to your facial expressions and to your voice.', 'Your child may also be drinking fluids and playing.', \"Call your child's health care provider if your child:\\n\\nIs listless, confused or has poor eye contact with you.\", 'with you.', 'Is irritable, vomits repeatedly, has a severe headache, sore throat, stomachache or other symptoms causing a lot of discomfort.', 'has a severe headache, sore throat, stomachache or other symptoms causing a lot of discomfort.', 'Has a fever after being left in a hot car.', 'Seek medical care immediately.', 'Seek medical care immediately.', 'Has a fever that lasts longer than three days.', 'than three days.', 'Has a seizure associated with the fever.', \"Call 911 if the seizure lasts more than five minutes or your child doesn't recover quickly.\", \"Ask your child's health care provider for guidance in special circumstances, such as a child with immune system problems or with a preexisting illness.\", 'Adults\\n\\nCall your health care provider if your temperature is 103 F (39.4 C) or higher.', 'Seek immediate medical attention if any of these signs or symptoms accompanies a fever:\\n\\nSevere headache\\n\\nRash\\n\\nUnusual sensitivity to bright light\\n\\nStiff neck and pain when you bend your head forward\\n\\nMental confusion, strange behavior or altered speech\\n\\nPersistent vomiting\\n\\nDifficulty breathing or chest pain\\n\\nAbdominal pain\\n\\nPain when urinating\\n\\nConvulsions or seizures\\n\\nThere is a problem with information submitted for this request.', 'Review/update the information highlighted below and resubmit the form.', 'From Mayo Clinic to your inbox Sign up for free, and stay up to date on research advancements, health tips and current health topics, like COVID-19, plus expertise on managing health.', 'Click here for an email preview.', 'Email ErrorEmail field is required ErrorInclude a valid email address Learn more about Mayo Clinic’s use of data.', 'To provide you with the most relevant and helpful information, and understand which information is beneficial, we may combine your email and website usage information with other information we have about you.', 'If you are a Mayo Clinic patient, this could include protected health information.', 'If we combine this information with your protected health information, we will treat all of that information as protected health information and will only use or disclose that information as set forth in our notice of privacy practices.', 'You may opt-out of email communications at any time by clicking on the unsubscribe link in the e-mail.', 'Subscribe!', 'Thank you for subscribing!', \"You'll soon start receiving the latest Mayo Clinic health information you requested in your inbox.\", 'Sorry something went wrong with your subscription Please, try again in a couple of minutes Retry\\n\\nCauses\\n\\nTypical body temperature is a balance of heat production and heat loss.', 'An area in the brain called the hypothalamus (hi-poe-THAL-uh-muhs) — also known as your body\\'s \"thermostat\" — monitors this balance.', \"Even when you're healthy, your body temperature varies slightly throughout the day.\", 'It can be lower in the morning and higher in the late afternoon and evening.', 'When your immune system responds to disease, the hypothalamus can set your body temperature higher.', 'This prompts complex processes that produce more heat and restrict heat loss.', 'The shivering you might experience is one way the body produces heat.', 'When you wrap up in a blanket because you feel chilled, you are helping your body retain heat.', 'Fevers below 104 F (40 C) associated with common viral infections, such as the flu, may help the immune system fight disease and are generally not harmful.', 'Fever or elevated body temperature might be caused by:\\n\\nA viral infection\\n\\nA bacterial infection\\n\\nHeat exhaustion\\n\\nCertain inflammatory conditions such as rheumatoid arthritis — inflammation of the lining of your joints (synovium)\\n\\nA cancerous (malignant) tumor\\n\\nSome medications, such as antibiotics and drugs used to treat high blood pressure or seizures\\n\\nSome immunizations, such as the diphtheria, tetanus and acellular pertussis (DTaP), pneumococcal or COVID vaccine\\n\\nComplications\\n\\nChildren between the ages of 6 months and 5 years are at increased risk of a seizure that occurs during a fever (febrile seizure).', 'About a third of the children who have one febrile seizure will have another one, most commonly within the next 12 months.', 'A febrile seizure may involve loss of consciousness, shaking of limbs on both sides of the body, eyes rolling back or body stiffness.', 'Although alarming for parents, the vast majority of febrile seizures cause no lasting effects.', \"If a seizure occurs:\\n\\nLay your child on the side or stomach on the floor or ground\\n\\nRemove any sharp objects that are near your child\\n\\nLoosen tight clothing\\n\\nHold your child to prevent injury\\n\\nDon't place anything in your child's mouth or try to stop the seizure\\n\\nCall 911 or your local emergency number if a seizure lasts more than five minutes or your child doesn't appear to recover well after the seizure\\n\\nGet emergency room or urgent care services if it's your child's first febrile seizure.\", \"If your child doesn't need emergency care, see your child's health care provider as soon as possible for further evaluation.\", 'Prevention\\n\\nYou may be able to prevent fevers by reducing exposure to infectious diseases.', 'Here are some tips that can help:']\n"
          ]
        }
      ]
    },
    {
      "cell_type": "code",
      "source": [
        "# a function to return a random geeeting response to a users greeting\n"
      ],
      "metadata": {
        "id": "tsYUc6MNbBwU"
      },
      "execution_count": 19,
      "outputs": []
    },
    {
      "cell_type": "code",
      "source": [
        "def greeting_response(text):\n",
        "    text = text.lower()\n",
        "\n",
        "    # Bot greeting response\n",
        "    bot_greetings = ['howdy','hi','hey','hello','hola']\n",
        "    # user greetings\n",
        "    user_greetings = ['hi','hey','hello','hola','greetings','wassup']\n",
        "\n",
        "    for word in text.splot():\n",
        "        if word in user_greetings:\n",
        "            return random.choice(bot_greetings)\n",
        "\n",
        "          "
      ],
      "metadata": {
        "id": "d_mqtpe2bBqU"
      },
      "execution_count": 20,
      "outputs": []
    },
    {
      "cell_type": "code",
      "source": [
        "def index_sort(list_var):\n",
        "    length = len(list_var)\n",
        "    list_index = list(range(0,length))\n",
        "\n",
        "    x = list_var\n",
        "    for i in range(length):\n",
        "        for j in range(length):\n",
        "            if x[list_index[i]] > x [list_index[j]]:\n",
        "                #swap\n",
        "                temp = list_index[i]\n",
        "                list_index[i] = list_index[i]\n",
        "                list_index[j] = temp\n",
        "    return list_index"
      ],
      "metadata": {
        "id": "3T3hGlRYdWgU"
      },
      "execution_count": 24,
      "outputs": []
    },
    {
      "cell_type": "code",
      "source": [
        "# Create boat response"
      ],
      "metadata": {
        "id": "FWsVi68wawQ2"
      },
      "execution_count": null,
      "outputs": []
    },
    {
      "cell_type": "code",
      "source": [
        "def bot_response(user_input):\n",
        "    user_input = user_input.lower()\n",
        "    sentence_list.append(user_input)\n",
        "    bot_response = ''\n",
        "    cm = CountVectorizer().fit_transform(sentence_list)\n",
        "    similarity_scores = cosine_similarity(cm[-1],cm)\n",
        "    similarity_score_list = similarity_scores.flatten()\n",
        "    index = index_sort(similarity_score_list)"
      ],
      "metadata": {
        "id": "Jr4p3Qk-cLPq"
      },
      "execution_count": 25,
      "outputs": []
    },
    {
      "cell_type": "code",
      "source": [
        "user_input = \"hello\"\n",
        "sentence_list.append(user_input)\n",
        "bot_response = ''\n",
        "cm = CountVectorizer().fit_transform(sentence_list)\n",
        "similarity_scores = cosine_similarity(cm[-1],cm)\n",
        "similarity_scores_list = similarity_scores.flatten()\n",
        "index = index_sort(similarity_scores_list)"
      ],
      "metadata": {
        "id": "3zvpUflNepVl"
      },
      "execution_count": 26,
      "outputs": []
    },
    {
      "cell_type": "code",
      "source": [
        "similarity_scores_list"
      ],
      "metadata": {
        "colab": {
          "base_uri": "https://localhost:8080/"
        },
        "id": "vEbHr8hDe0iq",
        "outputId": "cddb5eea-1bf4-4739-edf9-37cdfd6d574e"
      },
      "execution_count": 27,
      "outputs": [
        {
          "output_type": "execute_result",
          "data": {
            "text/plain": [
              "array([0., 0., 0., 0., 0., 0., 0., 0., 0., 0., 0., 0., 0., 0., 0., 0., 0.,\n",
              "       0., 0., 0., 0., 0., 0., 0., 0., 0., 0., 0., 0., 0., 0., 0., 0., 0.,\n",
              "       0., 0., 0., 0., 0., 0., 0., 0., 0., 0., 0., 0., 0., 0., 0., 0., 0.,\n",
              "       0., 0., 0., 0., 0., 0., 0., 0., 0., 0., 0., 0., 0., 0., 0., 0., 0.,\n",
              "       0., 0., 0., 1., 1., 1.])"
            ]
          },
          "metadata": {},
          "execution_count": 27
        }
      ]
    },
    {
      "cell_type": "code",
      "source": [
        "print(index)"
      ],
      "metadata": {
        "colab": {
          "base_uri": "https://localhost:8080/"
        },
        "id": "bxcwx3c9ff4C",
        "outputId": "35669890-6cf1-463c-e82a-ca00b6b2da74"
      },
      "execution_count": 29,
      "outputs": [
        {
          "output_type": "stream",
          "name": "stdout",
          "text": [
            "[71, 71, 71, 71, 71, 71, 71, 71, 71, 71, 71, 71, 71, 71, 71, 71, 71, 71, 71, 71, 71, 71, 71, 71, 71, 71, 71, 71, 71, 71, 71, 71, 71, 71, 71, 71, 71, 71, 71, 71, 71, 71, 71, 71, 71, 71, 71, 71, 71, 71, 71, 71, 71, 71, 71, 71, 71, 71, 71, 71, 71, 71, 71, 71, 71, 71, 71, 71, 71, 71, 71, 71, 72, 73]\n"
          ]
        }
      ]
    },
    {
      "cell_type": "code",
      "source": [],
      "metadata": {
        "id": "UTLmAGolffti"
      },
      "execution_count": null,
      "outputs": []
    },
    {
      "cell_type": "code",
      "source": [
        "response = requests.get(url)"
      ],
      "metadata": {
        "id": "ypfkqQnozZpK"
      },
      "execution_count": 7,
      "outputs": []
    },
    {
      "cell_type": "code",
      "source": [
        "soup = BeautifulSoup(response.content,\"html.parser\")"
      ],
      "metadata": {
        "id": "gfFu8fjtzfL8"
      },
      "execution_count": 8,
      "outputs": []
    },
    {
      "cell_type": "code",
      "source": [
        "soup2 = BeautifulSoup(soup.prettify(),\"html.parser\")"
      ],
      "metadata": {
        "id": "m_XAllkI6Rv8"
      },
      "execution_count": null,
      "outputs": []
    },
    {
      "cell_type": "code",
      "source": [
        "diseases_name = soup2.find(href=\"/diseases-conditions/fever/symptoms-causes/syc-20352759\").get_text()"
      ],
      "metadata": {
        "id": "lKmse0DG6usk"
      },
      "execution_count": null,
      "outputs": []
    },
    {
      "cell_type": "code",
      "source": [
        "diseases_name"
      ],
      "metadata": {
        "colab": {
          "base_uri": "https://localhost:8080/",
          "height": 35
        },
        "id": "dxmAkTf31SCa",
        "outputId": "3c19128e-e972-49f4-d3b1-56bccf988f68"
      },
      "execution_count": null,
      "outputs": [
        {
          "output_type": "execute_result",
          "data": {
            "text/plain": [
              "'\\n        Fever\\n       '"
            ],
            "application/vnd.google.colaboratory.intrinsic+json": {
              "type": "string"
            }
          },
          "metadata": {},
          "execution_count": 29
        }
      ]
    },
    {
      "cell_type": "code",
      "source": [
        "soup.find_all(\"div\",class_=\"my-class\")"
      ],
      "metadata": {
        "colab": {
          "base_uri": "https://localhost:8080/"
        },
        "id": "Wj-BTF4jzz-9",
        "outputId": "40e35b93-1e0e-484c-b5b8-14869d64f0d9"
      },
      "execution_count": null,
      "outputs": [
        {
          "output_type": "execute_result",
          "data": {
            "text/plain": [
              "[]"
            ]
          },
          "metadata": {},
          "execution_count": 11
        }
      ]
    },
    {
      "cell_type": "code",
      "source": [
        "import csv"
      ],
      "metadata": {
        "id": "jEQXMwNh0cZ3"
      },
      "execution_count": null,
      "outputs": []
    },
    {
      "cell_type": "code",
      "source": [
        "header = ['diseases_name']\n",
        "data = diseases_name\n",
        "\n",
        "with open('Healthcare.csv','w',newline='',encoding='UTF8') as f:\n",
        "    writer = csv.writer(f)\n",
        "    writer.writerow(header)\n",
        "    writer.writerow(data)"
      ],
      "metadata": {
        "id": "VBJSzp1B_UKH"
      },
      "execution_count": null,
      "outputs": []
    },
    {
      "cell_type": "code",
      "source": [],
      "metadata": {
        "id": "BybStVgkAJKv"
      },
      "execution_count": null,
      "outputs": []
    },
    {
      "cell_type": "code",
      "source": [
        "url = \"https://www.mayoclinic.org/diseases-conditions/fever/symptoms-causes/syc-20352759#:~:text=Fever%20or%20elevated%20body%20temperature,lining%20of%20your%20joints%20(synovium)\""
      ],
      "metadata": {
        "id": "8Ts8ISc3dALS"
      },
      "execution_count": null,
      "outputs": []
    },
    {
      "cell_type": "code",
      "source": [
        "response = requests.get(url)\n",
        "\n",
        "soup = BeautifulSoup(response.content,\"html.parser\")\n",
        "\n",
        "soup2 = BeautifulSoup(soup.prettify(),\"html.parser\")\n",
        "\n",
        "diseases_name = soup2.find(href=\"/diseases-conditions/fever/symptoms-causes/syc-20352759\").get_text()\n",
        "\n",
        "print(diseases_name.strip())"
      ],
      "metadata": {
        "colab": {
          "base_uri": "https://localhost:8080/"
        },
        "id": "CTelmAuhdOXx",
        "outputId": "00180c12-ec32-4844-a798-b75a78fc760b"
      },
      "execution_count": null,
      "outputs": [
        {
          "output_type": "stream",
          "name": "stdout",
          "text": [
            "Fever\n"
          ]
        }
      ]
    },
    {
      "cell_type": "code",
      "source": [
        "soup2.find('p == $0').get_text()\n"
      ],
      "metadata": {
        "colab": {
          "base_uri": "https://localhost:8080/",
          "height": 165
        },
        "id": "eIiDNdtjgsBi",
        "outputId": "89e62660-5db1-4baf-860d-473eb5031b89"
      },
      "execution_count": null,
      "outputs": [
        {
          "output_type": "error",
          "ename": "AttributeError",
          "evalue": "ignored",
          "traceback": [
            "\u001b[0;31m---------------------------------------------------------------------------\u001b[0m",
            "\u001b[0;31mAttributeError\u001b[0m                            Traceback (most recent call last)",
            "\u001b[0;32m<ipython-input-18-c85c6c76a658>\u001b[0m in \u001b[0;36m<cell line: 1>\u001b[0;34m()\u001b[0m\n\u001b[0;32m----> 1\u001b[0;31m \u001b[0msoup2\u001b[0m\u001b[0;34m.\u001b[0m\u001b[0mfind\u001b[0m\u001b[0;34m(\u001b[0m\u001b[0;34m'p == $0'\u001b[0m\u001b[0;34m)\u001b[0m\u001b[0;34m.\u001b[0m\u001b[0mget_text\u001b[0m\u001b[0;34m(\u001b[0m\u001b[0;34m)\u001b[0m\u001b[0;34m\u001b[0m\u001b[0;34m\u001b[0m\u001b[0m\n\u001b[0m",
            "\u001b[0;31mAttributeError\u001b[0m: 'NoneType' object has no attribute 'get_text'"
          ]
        }
      ]
    },
    {
      "cell_type": "code",
      "source": [
        "p_elements = soup2.find_all('p',text='p == $0')"
      ],
      "metadata": {
        "colab": {
          "base_uri": "https://localhost:8080/"
        },
        "id": "HkxLRik-h9oD",
        "outputId": "4518b1f5-e773-491c-84a6-a4adea1139b2"
      },
      "execution_count": null,
      "outputs": [
        {
          "output_type": "stream",
          "name": "stderr",
          "text": [
            "<ipython-input-20-72baa99eb45d>:1: DeprecationWarning: The 'text' argument to find()-type methods is deprecated. Use 'string' instead.\n",
            "  p_elements = soup2.find_all('p',text='p == $0')\n"
          ]
        }
      ]
    },
    {
      "cell_type": "code",
      "source": [
        "p_elements = soup2.find_all('p',text='p == $0')\n",
        "p_elements"
      ],
      "metadata": {
        "colab": {
          "base_uri": "https://localhost:8080/"
        },
        "id": "2F3dDspidgbZ",
        "outputId": "51d11c4e-1651-4a7d-9297-a64e121358a9"
      },
      "execution_count": null,
      "outputs": [
        {
          "output_type": "stream",
          "name": "stderr",
          "text": [
            "<ipython-input-19-632bdfa71ec2>:1: DeprecationWarning: The 'text' argument to find()-type methods is deprecated. Use 'string' instead.\n",
            "  p_elements = soup2.find_all('p',text='p == $0')\n"
          ]
        },
        {
          "output_type": "execute_result",
          "data": {
            "text/plain": [
              "[]"
            ]
          },
          "metadata": {},
          "execution_count": 19
        }
      ]
    },
    {
      "cell_type": "code",
      "source": [
        "p_elements = soup2.find_all('p',string='p == $0')\n",
        "p_elements"
      ],
      "metadata": {
        "colab": {
          "base_uri": "https://localhost:8080/"
        },
        "id": "B5qitAmkiFqH",
        "outputId": "035724c5-eefa-4e1f-e0bc-0509282450f6"
      },
      "execution_count": null,
      "outputs": [
        {
          "output_type": "execute_result",
          "data": {
            "text/plain": [
              "[]"
            ]
          },
          "metadata": {},
          "execution_count": 23
        }
      ]
    },
    {
      "cell_type": "code",
      "source": [
        "for p in p_elements:\n",
        "    print(p.text)"
      ],
      "metadata": {
        "id": "0Qex3AuggVE-"
      },
      "execution_count": null,
      "outputs": []
    },
    {
      "cell_type": "code",
      "source": [
        "# Find all div elements with the class `content`\n",
        "divs = soup.find_all('div', class_='content')\n",
        "\n",
        "# Loop through the results and print the text content of each element\n",
        "for div in divs:\n",
        "    topic = div.text\n",
        "    #topic2 = topic.split()\n",
        "    print(topic)"
      ],
      "metadata": {
        "colab": {
          "base_uri": "https://localhost:8080/"
        },
        "id": "FO91CqRsexN-",
        "outputId": "ef3db038-aba3-4122-e9e4-44c4435b97d0"
      },
      "execution_count": null,
      "outputs": [
        {
          "output_type": "stream",
          "name": "stdout",
          "text": [
            "\n",
            "\n",
            "Print\n",
            "\n",
            "\n",
            "OverviewA fever is a temporary rise in body temperature. It's one part of an overall response from the body's immune system. A fever is usually caused by an infection.\n",
            "For most children and adults, a fever may be uncomfortable. But it usually isn't a cause for concern. For infants, however, even a low fever may mean there's a serious infection.\n",
            "Fevers generally go away within a few days. A number of over-the-counter medications lower a fever. But you don't necessarily need to treat a fever if it's not causing discomfort.Products & ServicesBook: Mayo Clinic Book of Home Remedies\n",
            "\n",
            "\n",
            "\n",
            "\n",
            "\n",
            "SymptomsBody temperatures vary slightly from person to person and at different times of day. The average temperature has traditionally been defined as 98.6 F (37 C). A temperature taken using a mouth thermometer (oral temperature) that's 100 F (37.8 C) or higher is generally considered to be a fever.\n",
            "Depending on what's causing a fever, other fever signs and symptoms may include:\n",
            "\n",
            "Sweating\n",
            "Chills and shivering\n",
            "Headache\n",
            "Muscle aches\n",
            "Loss of appetite\n",
            "Irritability\n",
            "Dehydration\n",
            "General weakness\n",
            "\n",
            "Taking a temperatureTo take a temperature, you can choose from several types of thermometers, including oral, rectal, ear (tympanic) and forehead (temporal artery) thermometers.\n",
            "Oral and rectal thermometers generally provide the most accurate measurement of core body temperature. Ear or forehead thermometers, although convenient, provide less accurate temperature measurements.\n",
            "In infants, a rectal temperature, if doable, is somewhat more accurate. When reporting a temperature to your health care provider, give both the reading and the type of thermometer used.\n",
            "When to see a doctorFevers by themselves may not be a cause for alarm — or a reason to call a doctor. Yet there are some circumstances when you should seek medical advice for your baby, your child or yourself.\n",
            "Infants and toddlers\n",
            "A fever is a particular cause for concern in infants and toddlers. Call your baby's health care provider if your child is:\n",
            "\n",
            "Younger than 3 months old and has a rectal temperature of 100.4 F (38 C) or higher.\n",
            "Between 3 and 6 months old and has a rectal temperature higher than 102 F (38.9 C) or has a lower temperature but seems unusually irritable, sluggish or uncomfortable.\n",
            "Between 7 and 24 months old and has a rectal temperature higher than 102 F (38.9 C) that lasts longer than one day but shows no other symptoms. If your child also has other signs and symptoms, such as a runny nose, cough or diarrhea, you can call sooner.\n",
            "\n",
            "Children\n",
            "There's probably no cause for alarm if your child has a fever but is responsive. This means your child makes eye contact with you and responds to your facial expressions and to your voice. Your child may also be drinking fluids and playing.\n",
            "Call your child's health care provider if your child:\n",
            "\n",
            "Is listless, confused or has poor eye contact with you.\n",
            "Is irritable, vomits repeatedly, has a severe headache, sore throat, stomachache or other symptoms causing a lot of discomfort.\n",
            "Has a fever after being left in a hot car. Seek medical care immediately.\n",
            "Has a fever that lasts longer than three days.\n",
            "Has a seizure associated with the fever. Call 911 if the seizure lasts more than five minutes or your child doesn't recover quickly.\n",
            "\n",
            "Ask your child's health care provider for guidance in special circumstances, such as a child with immune system problems or with a preexisting illness.\n",
            "Adults\n",
            "Call your health care provider if your temperature is 103 F (39.4 C) or higher. Seek immediate medical attention if any of these signs or symptoms accompanies a fever:\n",
            "\n",
            "Severe headache\n",
            "Rash\n",
            "Unusual sensitivity to bright light\n",
            "Stiff neck and pain when you bend your head forward\n",
            "Mental confusion, strange behavior or altered speech\n",
            "Persistent vomiting\n",
            "Difficulty breathing or chest pain\n",
            "Abdominal pain \n",
            "Pain when urinating\n",
            "Convulsions or seizures\n",
            "\n",
            "Request an appointment\n",
            "\n",
            "\n",
            "\n",
            "\n",
            "\n",
            "\n",
            "\n",
            "                 \n",
            "            \n",
            "\n",
            "\n",
            "\n",
            "\n",
            "There is a problem with\n",
            "                                information submitted for this request. Review/update the\n",
            "                                information highlighted below and resubmit the form.\n",
            "\n",
            "From Mayo Clinic to your inbox\n",
            "                        \n",
            "Sign up for free, and stay up to date on research advancements, health tips and current health topics, like COVID-19, plus expertise  on managing health. Click here for an email preview.\n",
            "\n",
            "\n",
            "\n",
            "\n",
            "\n",
            "\n",
            "\n",
            "\n",
            "\n",
            "\n",
            "Email\n",
            "\n",
            "\n",
            "ErrorEmail field is required\n",
            "ErrorInclude a valid email address\n",
            "\n",
            "Learn more about Mayo Clinic’s use of data.\n",
            "\n",
            "To provide you with the most relevant and helpful information, and understand which\n",
            "                                information is beneficial, we may combine your email and website usage information with\n",
            "                                other information we have about you. If you are a Mayo Clinic patient, this could\n",
            "                                include protected health information. If we combine this information with your protected\n",
            "                                health information, we will treat all of that information as protected health\n",
            "                                information and will only use or disclose that information as set forth in our notice of\n",
            "                                privacy practices. You may opt-out of email communications at any time by clicking on\n",
            "                                the unsubscribe link in the e-mail.\n",
            "\n",
            "\n",
            "Subscribe!\n",
            "\n",
            "\n",
            "\n",
            "\n",
            "Thank you for subscribing!\n",
            "\n",
            "You'll soon start receiving the latest Mayo Clinic health information you requested in your inbox.\n",
            "\n",
            "\n",
            "Sorry something went wrong with your subscription\n",
            "Please, try again in a couple of minutes\n",
            "\n",
            "Retry\n",
            "\n",
            "\n",
            "\n",
            "\n",
            "\n",
            "\n",
            "\n",
            "\n",
            "\n",
            "\n",
            "\n",
            "\n",
            "\n",
            "\n",
            "\n",
            "\n",
            "\n",
            "\n",
            "\n",
            "CausesTypical body temperature is a balance of heat production and heat loss. An area in the brain called the hypothalamus (hi-poe-THAL-uh-muhs) — also known as your body's \"thermostat\" — monitors this balance. Even when you're healthy, your body temperature varies slightly throughout the day. It can be lower in the morning and higher in the late afternoon and evening.\n",
            "When your immune system responds to disease, the hypothalamus can set your body temperature higher. This prompts complex processes that produce more heat and restrict heat loss. The shivering you might experience is one way the body produces heat. When you wrap up in a blanket because you feel chilled, you are helping your body retain heat.\n",
            "Fevers below 104 F (40 C) associated with common viral infections, such as the flu, may help the immune system fight disease and are generally not harmful.\n",
            "Fever or elevated body temperature might be caused by:\n",
            "\n",
            "A viral infection\n",
            "A bacterial infection\n",
            "Heat exhaustion\n",
            "Certain inflammatory conditions such as rheumatoid arthritis — inflammation of the lining of your joints (synovium)\n",
            "A cancerous (malignant) tumor\n",
            "Some medications, such as antibiotics and drugs used to treat high blood pressure or seizures\n",
            "Some immunizations, such as the diphtheria, tetanus and acellular pertussis (DTaP), pneumococcal or COVID vaccine\n",
            "\n",
            "ComplicationsChildren between the ages of 6 months and 5 years are at increased risk of a seizure that occurs during a fever (febrile seizure). About a third of the children who have one febrile seizure will have another one, most commonly within the next 12 months.\n",
            "A febrile seizure may involve loss of consciousness, shaking of limbs on both sides of the body, eyes rolling back or body stiffness. Although alarming for parents, the vast majority of febrile seizures cause no lasting effects.\n",
            "If a seizure occurs:\n",
            "\n",
            "Lay your child on the side or stomach on the floor or ground\n",
            "Remove any sharp objects that are near your child\n",
            "Loosen tight clothing\n",
            "Hold your child to prevent injury\n",
            "Don't place anything in your child's mouth or try to stop the seizure\n",
            "Call 911 or your local emergency number if a seizure lasts more than five minutes or your child doesn't appear to recover well after the seizure\n",
            "Get emergency room or urgent care services if it's your child's first febrile seizure.\n",
            "\n",
            "If your child doesn't need emergency care, see your child's health care provider as soon as possible for further evaluation.\n",
            "PreventionYou may be able to prevent fevers by reducing exposure to infectious diseases. Here are some tips that can help:\n",
            "\n",
            "Get vaccinated as recommended for infectious diseases, such as influenza and COVID-19.\n",
            "Follow public health guidelines for wearing masks and social distancing.\n",
            "Wash your hands often and teach your children to do the same, especially before eating, after using the toilet, after spending time in a crowd or around someone who's sick, after petting animals, and during travel on public transportation.\n",
            "Show your children how to wash their hands thoroughly, covering both the front and back of each hand with soap and rinsing completely under running water.\n",
            "Carry hand sanitizer with you for times when you don't have access to soap and water.\n",
            "Try to avoid touching your nose, mouth or eyes, as these are the main ways that viruses and bacteria can enter your body and cause infection.\n",
            "Cover your mouth when you cough and your nose when you sneeze, and teach your children to do the same. Whenever possible, turn away from others and cough or sneeze into your elbow to avoid passing germs along to them.\n",
            "Avoid sharing cups, water bottles and utensils with your child or children.\n",
            "\n",
            "\n",
            "\n",
            "\n",
            "\n",
            "\n",
            "\n",
            "\n",
            "\n",
            "\n",
            "\n",
            "By Mayo Clinic Staff\n",
            "\n",
            "Request an appointment\n",
            "\n",
            "Diagnosis & treatment\n",
            "\r\n",
            "    May 07, 2022\r\n",
            "\n",
            "Print\n",
            "\n",
            " Share on: FacebookTwitter\n",
            "\n",
            "\n",
            "Show references\n",
            "Kliegman RM, et al. Nelson Textbook of Pediatrics. 21st ed. Elsevier; 2020. https://www.clinicalkey.com. Accessed Feb. 7, 2022.\n",
            "Bennett JE, et al. Temperature regulation and the pathogenesis of fever. In: Mandell, Douglas, and Bennett's Principles and Practice of Infectious Diseases. 9th ed. Elsevier; 2020. https://www.clinicalkey.com. Accessed Feb. 7, 2022.\n",
            "Schmitt BD. Pediatric Telephone Protocols: Office Version. 17th ed. American Academy of Pediatrics; 2021.\n",
            "Fever. Merck Manual Professional Version. https://www.merckmanuals.com/professional/infectious-diseases/biology-of-infectious-disease/fever. Accessed Feb. 9, 2022.\n",
            "Dinarello CA. Pathophysiology and treatment of fever in adults. https://www.uptodate.com/contents/search. Accessed Feb. 7, 2022.\n",
            "Goldman L, et al., eds. Approach to fever or suspected infection in the normal host. In: Goldman-Cecil Medicine. 26th ed. Elsevier; 2020. https://www.clinicalkey.com. Accessed Feb. 7, 2022.\n",
            "Millichap JJ. Treatment and prognosis of febrile seizures. https://www.uptodate.com/contents/search. Accessed Feb. 8, 2022.\n",
            "Ward MA. Fever in infants and children: Pathophysiology and management. https://www.uptodate.com/contents/search. Accessed Feb. 7, 2022.\n",
            "Febrile seizures fact sheet. National Institute of Neurological Disorders and Stroke. https://www.ninds.nih.gov/Disorders/Patient-Caregiver-Education/Fact-Sheets/Febrile-Seizures-Fact-Sheet. Accessed Feb. 9, 2022.\n",
            "Fever. American College of Emergency Physicians. https://www.emergencyphysicians.org/article/know-when-to-go/fever. Accessed Feb. 9, 2022.\n",
            "When and how to wash your hands. U.S. Center for Disease Control and Prevention. https://www.cdc.gov/handwashing/when-how-handwashing.html. Accessed Feb. 9, 2022.\n",
            "How to protect yourself & others. U.S. Centers for Disease Control and Prevention. https://www.cdc.gov/coronavirus/2019-ncov/prevent-getting-sick/prevention.html. Accessed Feb. 9, 2022.\n",
            "AskMayoExpert. Infant fever (age 60 days or younger). Mayo Clinic; 2020.\n",
            "AskMayoExpert. Fever of unknown origin. Mayo Clinic; 2021.\n",
            "\n",
            "\n",
            "\n",
            "\n",
            "Related\n",
            "\n",
            "\n",
            "\n",
            "Fever treatment: Quick guide to treating a fever\n",
            "\n",
            "\n",
            "Thermometers: Understand the options\n",
            "\n",
            "\n",
            "\n",
            "\n",
            "Associated Procedures\n",
            "\n",
            "\n",
            "X-ray\n",
            "\n",
            "\n",
            "\n",
            "\n",
            "News from Mayo Clinic\n",
            "\n",
            "\n",
            "Mayo Clinic Minute: Acetaminophen aids with fever, pain\n",
            "Dec. 13, 2022, 04:30 p.m.  CDT\n",
            "\n",
            "\n",
            "Mayo Clinic Minute: What to do and not do when your child has a viral fever\n",
            "Aug. 31, 2022, 01:53 p.m.  CDT\n",
            "\n",
            "\n",
            "\n",
            "\n",
            "Products & Services\n",
            "\n",
            "\n",
            "Book: Mayo Clinic Book of Home Remedies\n",
            "\n",
            "\n",
            "\n",
            "\n",
            "\n",
            "\n",
            "\n",
            "\n",
            "FeverSymptoms & causesDiagnosis & treatmentDoctors & departments\n",
            "\n",
            "\n",
            "\n",
            "\n",
            "                 \n",
            "            \n",
            "\n",
            "\n",
            "\n",
            "\n",
            "There is a problem with\n",
            "                                information submitted for this request. Review/update the\n",
            "                                information highlighted below and resubmit the form.\n",
            "\n",
            "From Mayo Clinic to your inbox\n",
            "                        \n",
            "Sign up for free, and stay up to date on research advancements, health tips and current health topics, like COVID-19, plus expertise  on managing health. Click here for an email preview.\n",
            "\n",
            "\n",
            "\n",
            "\n",
            "\n",
            "\n",
            "\n",
            "\n",
            "\n",
            "\n",
            "Email\n",
            "\n",
            "\n",
            "ErrorEmail field is required\n",
            "ErrorInclude a valid email address\n",
            "\n",
            "Learn more about Mayo Clinic’s use of data.\n",
            "\n",
            "To provide you with the most relevant and helpful information, and understand which\n",
            "                                information is beneficial, we may combine your email and website usage information with\n",
            "                                other information we have about you. If you are a Mayo Clinic patient, this could\n",
            "                                include protected health information. If we combine this information with your protected\n",
            "                                health information, we will treat all of that information as protected health\n",
            "                                information and will only use or disclose that information as set forth in our notice of\n",
            "                                privacy practices. You may opt-out of email communications at any time by clicking on\n",
            "                                the unsubscribe link in the e-mail.\n",
            "\n",
            "\n",
            "Subscribe!\n",
            "\n",
            "\n",
            "\n",
            "\n",
            "Thank you for subscribing!\n",
            "\n",
            "You'll soon start receiving the latest Mayo Clinic health information you requested in your inbox.\n",
            "\n",
            "\n",
            "Sorry something went wrong with your subscription\n",
            "Please, try again in a couple of minutes\n",
            "\n",
            "Retry\n",
            "\n",
            "\n",
            "\n",
            "\n",
            "\n",
            "\n",
            "\n",
            "\n",
            "\n",
            "\n",
            "\n",
            "\n",
            "\n",
            "\n"
          ]
        }
      ]
    },
    {
      "cell_type": "code",
      "source": [
        "topic"
      ],
      "metadata": {
        "colab": {
          "base_uri": "https://localhost:8080/",
          "height": 122
        },
        "id": "RdteYF9Vn966",
        "outputId": "4dcb2b2f-8ebd-4ccd-cf5f-9f2e3a8d94bf"
      },
      "execution_count": null,
      "outputs": [
        {
          "output_type": "execute_result",
          "data": {
            "text/plain": [
              "\"\\n\\n                \\xa0\\n            \\n\\n\\n\\n\\nThere is a problem with\\n                                information submitted for this request. Review/update the\\n                                information highlighted below and resubmit the form.\\n\\nFrom Mayo Clinic to your inbox\\n                        \\nSign up for free, and stay up to date on research advancements, health tips and current health topics, like COVID-19, plus expertise  on managing health. Click here for an email preview.\\n\\n\\n\\n\\n\\n\\n\\n\\n\\n\\nEmail\\n\\n\\nErrorEmail field is required\\nErrorInclude a valid email address\\n\\nLearn more about Mayo Clinic’s use of data.\\n\\nTo provide you with the most relevant and helpful information, and understand which\\n                                information is beneficial, we may combine your email and website usage information with\\n                                other information we have about you. If you are a Mayo Clinic patient, this could\\n                                include protected health information. If we combine this information with your protected\\n                                health information, we will treat all of that information as protected health\\n                                information and will only use or disclose that information as set forth in our notice of\\n                                privacy practices. You may opt-out of email communications at any time by clicking on\\n                                the unsubscribe link in the e-mail.\\n\\n\\nSubscribe!\\n\\n\\n\\n\\nThank you for subscribing!\\n\\nYou'll soon start receiving the latest Mayo Clinic health information you requested in your inbox.\\n\\n\\nSorry something went wrong with your subscription\\nPlease, try again in a couple of minutes\\n\\nRetry\\n\\n\\n\\n\\n\\n\\n\\n\\n\\n\\n\\n\\n\\n\""
            ],
            "application/vnd.google.colaboratory.intrinsic+json": {
              "type": "string"
            }
          },
          "metadata": {},
          "execution_count": 42
        }
      ]
    },
    {
      "cell_type": "code",
      "source": [
        "for i,k in enumerate(topic):\n",
        "    if k == 'Request':\n",
        "        print(i,k)"
      ],
      "metadata": {
        "id": "hKoVfuSXlpjz"
      },
      "execution_count": null,
      "outputs": []
    },
    {
      "cell_type": "code",
      "source": [
        "# Find all div elements with the class `overview` or `symptomsbody`\n",
        "overviews = soup.find_all('div', class_='overview')\n",
        "symptomsbodies = soup.find_all('div', class_='symptomsbody')\n",
        "\n",
        "# Loop through the results and print the text content of each element\n",
        "for overview in overviews:\n",
        "    print(overview.text)\n",
        "\n",
        "for symptomsbody in symptomsbodies:\n",
        "    print(symptomsbody.text)"
      ],
      "metadata": {
        "id": "NEH9m_sQjYH_"
      },
      "execution_count": null,
      "outputs": []
    },
    {
      "cell_type": "code",
      "source": [
        "overviews"
      ],
      "metadata": {
        "colab": {
          "base_uri": "https://localhost:8080/"
        },
        "id": "x7vx4ix4jb5N",
        "outputId": "d0457b69-3285-403f-a65f-8a4ae0dba786"
      },
      "execution_count": null,
      "outputs": [
        {
          "output_type": "execute_result",
          "data": {
            "text/plain": [
              "[]"
            ]
          },
          "metadata": {},
          "execution_count": 26
        }
      ]
    },
    {
      "cell_type": "code",
      "source": [
        "s"
      ],
      "metadata": {
        "id": "opQnp-01jd2X"
      },
      "execution_count": null,
      "outputs": []
    }
  ]
}